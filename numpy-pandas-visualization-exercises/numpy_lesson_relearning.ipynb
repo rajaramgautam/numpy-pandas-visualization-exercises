{
 "cells": [
  {
   "cell_type": "code",
   "execution_count": 1,
   "id": "c3cf6f33",
   "metadata": {},
   "outputs": [],
   "source": [
    "import numpy as np"
   ]
  },
  {
   "cell_type": "markdown",
   "id": "39923924",
   "metadata": {},
   "source": [
    "# We can create a numpy array by passing a list to the np.array function:"
   ]
  },
  {
   "cell_type": "code",
   "execution_count": 2,
   "id": "17d9ffb4",
   "metadata": {},
   "outputs": [],
   "source": [
    "a = np.array([1, 2, 3])"
   ]
  },
  {
   "cell_type": "code",
   "execution_count": 3,
   "id": "34084bbf",
   "metadata": {},
   "outputs": [
    {
     "data": {
      "text/plain": [
       "array([1, 2, 3])"
      ]
     },
     "execution_count": 3,
     "metadata": {},
     "output_type": "execute_result"
    }
   ],
   "source": [
    "a"
   ]
  },
  {
   "cell_type": "code",
   "execution_count": 4,
   "id": "2fe52980",
   "metadata": {},
   "outputs": [
    {
     "data": {
      "text/plain": [
       "numpy.ndarray"
      ]
     },
     "execution_count": 4,
     "metadata": {},
     "output_type": "execute_result"
    }
   ],
   "source": [
    "type(a)"
   ]
  },
  {
   "cell_type": "markdown",
   "id": "f63c5f3e",
   "metadata": {},
   "source": [
    "# We can create a multi-dimensional array by passing a list of lists to the array function"
   ]
  },
  {
   "cell_type": "code",
   "execution_count": 5,
   "id": "7321f9ee",
   "metadata": {},
   "outputs": [
    {
     "data": {
      "text/plain": [
       "array([[1, 2, 3],\n",
       "       [4, 5, 6],\n",
       "       [7, 8, 9]])"
      ]
     },
     "execution_count": 5,
     "metadata": {},
     "output_type": "execute_result"
    }
   ],
   "source": [
    "matrix = np.array([[1, 2, 3],\n",
    "                   [4, 5, 6],\n",
    "                   [7, 8, 9]])\n",
    "matrix"
   ]
  },
  {
   "cell_type": "code",
   "execution_count": 6,
   "id": "07e751fb",
   "metadata": {},
   "outputs": [
    {
     "data": {
      "text/plain": [
       "numpy.ndarray"
      ]
     },
     "execution_count": 6,
     "metadata": {},
     "output_type": "execute_result"
    }
   ],
   "source": [
    "type(matrix)"
   ]
  },
  {
   "cell_type": "code",
   "execution_count": 11,
   "id": "a85039e5",
   "metadata": {},
   "outputs": [
    {
     "data": {
      "text/plain": [
       "9"
      ]
     },
     "execution_count": 11,
     "metadata": {},
     "output_type": "execute_result"
    }
   ],
   "source": [
    "matrix.size"
   ]
  },
  {
   "cell_type": "code",
   "execution_count": 12,
   "id": "7272bcc0",
   "metadata": {},
   "outputs": [
    {
     "data": {
      "text/plain": [
       "(3, 3)"
      ]
     },
     "execution_count": 12,
     "metadata": {},
     "output_type": "execute_result"
    }
   ],
   "source": [
    "matrix.shape"
   ]
  },
  {
   "cell_type": "markdown",
   "id": "a2a3eb91",
   "metadata": {},
   "source": [
    "# Referencing elements in numpy arrays at it's most basic is the same as referencing elements in Python lists."
   ]
  },
  {
   "cell_type": "code",
   "execution_count": 13,
   "id": "28be96a0",
   "metadata": {},
   "outputs": [
    {
     "data": {
      "text/plain": [
       "1"
      ]
     },
     "execution_count": 13,
     "metadata": {},
     "output_type": "execute_result"
    }
   ],
   "source": [
    "a[0]"
   ]
  },
  {
   "cell_type": "code",
   "execution_count": 16,
   "id": "ae792b4b",
   "metadata": {},
   "outputs": [
    {
     "data": {
      "text/plain": [
       "array([1, 2, 3])"
      ]
     },
     "execution_count": 16,
     "metadata": {},
     "output_type": "execute_result"
    }
   ],
   "source": [
    "matrix[0]"
   ]
  },
  {
   "cell_type": "code",
   "execution_count": 17,
   "id": "7f250327",
   "metadata": {},
   "outputs": [
    {
     "data": {
      "text/plain": [
       "1"
      ]
     },
     "execution_count": 17,
     "metadata": {},
     "output_type": "execute_result"
    }
   ],
   "source": [
    "matrix[0][0]"
   ]
  },
  {
   "cell_type": "code",
   "execution_count": 18,
   "id": "e295106b",
   "metadata": {},
   "outputs": [
    {
     "name": "stdout",
     "output_type": "stream",
     "text": [
      "a    == [1 2 3]\n",
      "a[0] == 1\n",
      "a[1] == 2\n",
      "a[2] == 3\n"
     ]
    }
   ],
   "source": [
    "print('a    == {}'.format(a))\n",
    "print('a[0] == {}'.format(a[0]))\n",
    "print('a[1] == {}'.format(a[1]))\n",
    "print('a[2] == {}'.format(a[2]))"
   ]
  },
  {
   "cell_type": "markdown",
   "id": "036d773a",
   "metadata": {},
   "source": [
    "# However, multidimensional numpy arrays are easier to index into. To obtain the element at the second column in the second row, we would write:"
   ]
  },
  {
   "cell_type": "code",
   "execution_count": 19,
   "id": "9231eddd",
   "metadata": {},
   "outputs": [
    {
     "data": {
      "text/plain": [
       "5"
      ]
     },
     "execution_count": 19,
     "metadata": {},
     "output_type": "execute_result"
    }
   ],
   "source": [
    "matrix[1, 1]"
   ]
  },
  {
   "cell_type": "code",
   "execution_count": 20,
   "id": "66414259",
   "metadata": {},
   "outputs": [
    {
     "data": {
      "text/plain": [
       "5"
      ]
     },
     "execution_count": 20,
     "metadata": {},
     "output_type": "execute_result"
    }
   ],
   "source": [
    "matrix[1][1]"
   ]
  },
  {
   "cell_type": "code",
   "execution_count": 21,
   "id": "a344e0e4",
   "metadata": {},
   "outputs": [
    {
     "data": {
      "text/plain": [
       "9"
      ]
     },
     "execution_count": 21,
     "metadata": {},
     "output_type": "execute_result"
    }
   ],
   "source": [
    "matrix[2][2]"
   ]
  },
  {
   "cell_type": "code",
   "execution_count": 22,
   "id": "85ab31c1",
   "metadata": {},
   "outputs": [
    {
     "data": {
      "text/plain": [
       "True"
      ]
     },
     "execution_count": 22,
     "metadata": {},
     "output_type": "execute_result"
    }
   ],
   "source": [
    "matrix[2][2] == matrix[2, 2]"
   ]
  },
  {
   "cell_type": "markdown",
   "id": "b75a6f21",
   "metadata": {},
   "source": [
    "# To get the first 2 elements of the last 2 rows: TBA"
   ]
  },
  {
   "cell_type": "code",
   "execution_count": 26,
   "id": "e46407a7",
   "metadata": {},
   "outputs": [
    {
     "data": {
      "text/plain": [
       "array([[4, 5],\n",
       "       [7, 8]])"
      ]
     },
     "execution_count": 26,
     "metadata": {},
     "output_type": "execute_result"
    }
   ],
   "source": [
    "matrix[1:, :2]"
   ]
  },
  {
   "cell_type": "markdown",
   "id": "feed1d1d",
   "metadata": {},
   "source": [
    "# Arrays can also be indexed with a boolean sequence used to indicate which values should be included in the resulting array."
   ]
  },
  {
   "cell_type": "code",
   "execution_count": 27,
   "id": "e417c421",
   "metadata": {},
   "outputs": [
    {
     "data": {
      "text/plain": [
       "array([1, 3])"
      ]
     },
     "execution_count": 27,
     "metadata": {},
     "output_type": "execute_result"
    }
   ],
   "source": [
    "should_include_elements = [True, False, True]\n",
    "a[should_include_elements]"
   ]
  },
  {
   "cell_type": "markdown",
   "id": "481c4952",
   "metadata": {},
   "source": [
    "# Note that the boolean sequence must the the same length as the array being indexed."
   ]
  },
  {
   "cell_type": "markdown",
   "id": "18f2129d",
   "metadata": {},
   "source": [
    "# Vectorized Operations"
   ]
  },
  {
   "cell_type": "code",
   "execution_count": 28,
   "id": "22123427",
   "metadata": {},
   "outputs": [
    {
     "name": "stdout",
     "output_type": "stream",
     "text": [
      "An Error Occured!\n",
      "TypeError: can only concatenate list (not \"int\") to list\n"
     ]
    }
   ],
   "source": [
    "original_array = [1, 2, 3, 4, 5]\n",
    "try:\n",
    "    original_array + 1\n",
    "except TypeError as e:\n",
    "    print('An Error Occured!')\n",
    "    print(f'TypeError: {e}')"
   ]
  },
  {
   "cell_type": "code",
   "execution_count": 29,
   "id": "ac0bafbd",
   "metadata": {},
   "outputs": [
    {
     "data": {
      "text/plain": [
       "list"
      ]
     },
     "execution_count": 29,
     "metadata": {},
     "output_type": "execute_result"
    }
   ],
   "source": [
    "type(original_array)"
   ]
  },
  {
   "cell_type": "code",
   "execution_count": 30,
   "id": "7fc29568",
   "metadata": {},
   "outputs": [],
   "source": [
    "original_array = np.array(original_array)"
   ]
  },
  {
   "cell_type": "code",
   "execution_count": 31,
   "id": "0b4d6dea",
   "metadata": {},
   "outputs": [
    {
     "data": {
      "text/plain": [
       "array([1, 2, 3, 4, 5])"
      ]
     },
     "execution_count": 31,
     "metadata": {},
     "output_type": "execute_result"
    }
   ],
   "source": [
    "original_array"
   ]
  },
  {
   "cell_type": "code",
   "execution_count": 32,
   "id": "25a781dc",
   "metadata": {},
   "outputs": [
    {
     "data": {
      "text/plain": [
       "array([2, 3, 4, 5, 6])"
      ]
     },
     "execution_count": 32,
     "metadata": {},
     "output_type": "execute_result"
    }
   ],
   "source": [
    "original_array + 1"
   ]
  },
  {
   "cell_type": "code",
   "execution_count": 33,
   "id": "67287d00",
   "metadata": {},
   "outputs": [],
   "source": [
    "# Instead, we might write a for loop or a list comprehension:"
   ]
  },
  {
   "cell_type": "code",
   "execution_count": 34,
   "id": "be05cf4f",
   "metadata": {},
   "outputs": [
    {
     "name": "stdout",
     "output_type": "stream",
     "text": [
      "[2, 3, 4, 5, 6]\n"
     ]
    }
   ],
   "source": [
    "original_array = [1, 2, 3, 4, 5]\n",
    "array_with_one_added = []\n",
    "for n in original_array:\n",
    "    array_with_one_added.append(n + 1)\n",
    "print(array_with_one_added)"
   ]
  },
  {
   "cell_type": "code",
   "execution_count": 35,
   "id": "2a4946d1",
   "metadata": {},
   "outputs": [
    {
     "name": "stdout",
     "output_type": "stream",
     "text": [
      "[2, 3, 4, 5, 6]\n"
     ]
    }
   ],
   "source": [
    "original_array = [1, 2, 3, 4, 5]\n",
    "array_with_one_added = [n + 1 for n in original_array]\n",
    "print(array_with_one_added)"
   ]
  },
  {
   "cell_type": "markdown",
   "id": "df54838f",
   "metadata": {},
   "source": [
    "# This works the same way for the other basic arithmatic operators as well."
   ]
  },
  {
   "cell_type": "code",
   "execution_count": 37,
   "id": "5815dcba",
   "metadata": {},
   "outputs": [
    {
     "name": "stdout",
     "output_type": "stream",
     "text": [
      "my_array      == [-3  0  3 16]\n",
      "my_array - 5  == [-8 -5 -2 11]\n",
      "my_array * 4  == [-12   0  12  64]\n",
      "my_array / 2  == [-1.5  0.   1.5  8. ]\n",
      "my_array ** 2 == [  9   0   9 256]\n",
      "my_array % 2  == [1 0 1 0]\n"
     ]
    }
   ],
   "source": [
    "my_array = np.array([-3, 0, 3, 16])\n",
    "\n",
    "print('my_array      == {}'.format(my_array))\n",
    "print('my_array - 5  == {}'.format(my_array - 5))\n",
    "print('my_array * 4  == {}'.format(my_array * 4))\n",
    "print('my_array / 2  == {}'.format(my_array / 2))\n",
    "print('my_array ** 2 == {}'.format(my_array ** 2))\n",
    "print('my_array % 2  == {}'.format(my_array % 2))"
   ]
  },
  {
   "cell_type": "markdown",
   "id": "298df5ff",
   "metadata": {},
   "source": [
    "# Not only are the arithmatic operators vectorized, but the same applies to the comparison operators"
   ]
  },
  {
   "cell_type": "code",
   "execution_count": 38,
   "id": "4a9e0f21",
   "metadata": {},
   "outputs": [
    {
     "name": "stdout",
     "output_type": "stream",
     "text": [
      "my_array       == [-3  0  3 16]\n",
      "my_array == -3 == [ True False False False]\n",
      "my_array >= 0  == [False  True  True  True]\n",
      "my_array < 10  == [ True  True  True False]\n"
     ]
    }
   ],
   "source": [
    "my_array = np.array([-3, 0, 3, 16])\n",
    "\n",
    "print('my_array       == {}'.format(my_array))\n",
    "print('my_array == -3 == {}'.format(my_array == -3))\n",
    "print('my_array >= 0  == {}'.format(my_array >= 0))\n",
    "print('my_array < 10  == {}'.format(my_array < 10))"
   ]
  },
  {
   "cell_type": "markdown",
   "id": "98b1400a",
   "metadata": {},
   "source": [
    "# Knowing what we know about indexing numpy arrays, we can use the comparison operators to select a certain subset of an array."
   ]
  },
  {
   "cell_type": "code",
   "execution_count": 39,
   "id": "b05e077a",
   "metadata": {},
   "outputs": [
    {
     "data": {
      "text/plain": [
       "array([ 3, 16])"
      ]
     },
     "execution_count": 39,
     "metadata": {},
     "output_type": "execute_result"
    }
   ],
   "source": [
    "my_array[my_array > 0]"
   ]
  },
  {
   "cell_type": "code",
   "execution_count": 41,
   "id": "2de15d30",
   "metadata": {},
   "outputs": [
    {
     "data": {
      "text/plain": [
       "array([ 0, 16])"
      ]
     },
     "execution_count": 41,
     "metadata": {},
     "output_type": "execute_result"
    }
   ],
   "source": [
    "my_array[my_array%2 == 0]"
   ]
  },
  {
   "cell_type": "code",
   "execution_count": 42,
   "id": "5bfdf9e8",
   "metadata": {},
   "outputs": [
    {
     "name": "stdout",
     "output_type": "stream",
     "text": [
      "1. my_array[my_array % 2 == 0]\n",
      "    - the original expression\n",
      "2. my_array[[-3  0  3 16] % 2 == 0]\n",
      "    - variable substitution\n",
      "3. my_array[[1 0 1 0] == 0]\n",
      "    - result of performing the vectorized modulus 2\n",
      "4. my_array[[False  True False  True]]\n",
      "    - result of comparing to 0\n",
      "5. [-3  0  3 16][[False  True False  True]]\n",
      "    - variable substitution\n",
      "6. [ 0 16]\n",
      "    - our final result\n"
     ]
    }
   ],
   "source": [
    "print('1. my_array[my_array % 2 == 0]')\n",
    "print('    - the original expression')\n",
    "print('2. my_array[{} % 2 == 0]'.format(my_array))\n",
    "print('    - variable substitution')\n",
    "print('3. my_array[{} == 0]'.format(my_array % 2))\n",
    "print('    - result of performing the vectorized modulus 2')\n",
    "print('4. my_array[{}]'.format(my_array % 2 == 0))\n",
    "print('    - result of comparing to 0')\n",
    "print('5. {}[{}]'.format(my_array, my_array % 2 == 0))\n",
    "print('    - variable substitution')\n",
    "print('6. {}'.format(my_array[my_array % 2 == 0]))\n",
    "print('    - our final result')"
   ]
  },
  {
   "cell_type": "markdown",
   "id": "c93eb3a3",
   "metadata": {},
   "source": [
    "# Array Creation"
   ]
  },
  {
   "cell_type": "code",
   "execution_count": 43,
   "id": "958f70be",
   "metadata": {},
   "outputs": [
    {
     "data": {
      "text/plain": [
       "array([ 0.75468563, -0.31357004,  0.45728561,  2.39573912,  0.11255802,\n",
       "        0.13875326,  0.32056248,  1.4616774 , -0.45709673, -1.34555504])"
      ]
     },
     "execution_count": 43,
     "metadata": {},
     "output_type": "execute_result"
    }
   ],
   "source": [
    "np.random.randn(10)"
   ]
  },
  {
   "cell_type": "code",
   "execution_count": 44,
   "id": "25c8dc7f",
   "metadata": {},
   "outputs": [],
   "source": [
    "a = np.random.randn(10)"
   ]
  },
  {
   "cell_type": "code",
   "execution_count": 45,
   "id": "4b7eb70e",
   "metadata": {},
   "outputs": [
    {
     "data": {
      "text/plain": [
       "0.16581581716457405"
      ]
     },
     "execution_count": 45,
     "metadata": {},
     "output_type": "execute_result"
    }
   ],
   "source": [
    "a.mean()"
   ]
  },
  {
   "cell_type": "code",
   "execution_count": 47,
   "id": "b2869df4",
   "metadata": {},
   "outputs": [
    {
     "data": {
      "text/plain": [
       "1.091636911454493"
      ]
     },
     "execution_count": 47,
     "metadata": {},
     "output_type": "execute_result"
    }
   ],
   "source": [
    "a.std()"
   ]
  },
  {
   "cell_type": "code",
   "execution_count": 48,
   "id": "5442749a",
   "metadata": {},
   "outputs": [
    {
     "data": {
      "text/plain": [
       "array([[-0.07399223, -0.77391865,  0.02461989,  1.71862166],\n",
       "       [ 1.68647213, -0.48774411, -0.54915762,  1.22312794],\n",
       "       [ 0.04602747, -1.19182476, -0.41290357,  0.71177598]])"
      ]
     },
     "execution_count": 48,
     "metadata": {},
     "output_type": "execute_result"
    }
   ],
   "source": [
    "np.random.randn(3, 4)"
   ]
  },
  {
   "cell_type": "markdown",
   "id": "f6d76f66",
   "metadata": {},
   "source": [
    "# If we wish to draw from a normal distribution with mean \n",
    "# μ\n",
    "# and standard deviation \n",
    "# σ\n",
    "# , we'll need to apply some arithmetic. Recall that to convert from the standard normal distribution, we'll need to multiply by the standard deviation, and add the mean."
   ]
  },
  {
   "cell_type": "code",
   "execution_count": 49,
   "id": "e42a846c",
   "metadata": {},
   "outputs": [
    {
     "data": {
      "text/plain": [
       "array([166.10840099,  56.86671993, 112.93634437,  79.10713044,\n",
       "        87.78003644,  81.21482419,  49.96746366, 135.35734144,\n",
       "        98.78938213, 130.13149158,  98.61806945, 185.29619233,\n",
       "       119.48457061,  82.77926825, 102.59217751, 120.35832211,\n",
       "        63.77397421,  99.72764816,  49.06342353, 137.690406  ])"
      ]
     },
     "execution_count": 49,
     "metadata": {},
     "output_type": "execute_result"
    }
   ],
   "source": [
    "mu = 100\n",
    "sigma = 30\n",
    "\n",
    "sigma * np.random.randn(20) + mu"
   ]
  },
  {
   "cell_type": "markdown",
   "id": "c12431f7",
   "metadata": {},
   "source": [
    "# The zeros and ones functions provide the ability to create arrays of a specified size full or either 0s or 1s, and the full function allows us to create an array of the specified size with a default value."
   ]
  },
  {
   "cell_type": "code",
   "execution_count": 50,
   "id": "41a667e5",
   "metadata": {},
   "outputs": [
    {
     "name": "stdout",
     "output_type": "stream",
     "text": [
      "np.zeros(3)    == [0. 0. 0.]\n",
      "np.ones(3)     == [1. 1. 1.]\n",
      "np.full(3, 17) == [17 17 17]\n"
     ]
    }
   ],
   "source": [
    "print('np.zeros(3)    == {}'.format(np.zeros(3)))\n",
    "print('np.ones(3)     == {}'.format(np.ones(3)))\n",
    "print('np.full(3, 17) == {}'.format(np.full(3, 17)))"
   ]
  },
  {
   "cell_type": "code",
   "execution_count": 52,
   "id": "ddb6036b",
   "metadata": {},
   "outputs": [
    {
     "data": {
      "text/plain": [
       "array([0., 0., 0.])"
      ]
     },
     "execution_count": 52,
     "metadata": {},
     "output_type": "execute_result"
    }
   ],
   "source": [
    "np.zeros(3)"
   ]
  },
  {
   "cell_type": "code",
   "execution_count": 54,
   "id": "e1ed67d8",
   "metadata": {},
   "outputs": [
    {
     "data": {
      "text/plain": [
       "array([4, 4, 4])"
      ]
     },
     "execution_count": 54,
     "metadata": {},
     "output_type": "execute_result"
    }
   ],
   "source": [
    "np.full(3, 4)"
   ]
  },
  {
   "cell_type": "markdown",
   "id": "62271102",
   "metadata": {},
   "source": [
    "# We can also use these methods to create multi-dimensional arrays by passing a tuple of the dimensions of the desired array, instead of a single integer value."
   ]
  },
  {
   "cell_type": "code",
   "execution_count": 62,
   "id": "288ac95d",
   "metadata": {},
   "outputs": [
    {
     "data": {
      "text/plain": [
       "array([[1., 1., 1.],\n",
       "       [1., 1., 1.]])"
      ]
     },
     "execution_count": 62,
     "metadata": {},
     "output_type": "execute_result"
    }
   ],
   "source": [
    "np.ones((2, 3))"
   ]
  },
  {
   "cell_type": "markdown",
   "id": "2a2684fa",
   "metadata": {},
   "source": [
    "# Numpy's arange function is very similar to python's builtin range function. It can take a single argument and generate a range from zero up to, but not including, the passed number."
   ]
  },
  {
   "cell_type": "code",
   "execution_count": 63,
   "id": "ee26ec31",
   "metadata": {},
   "outputs": [
    {
     "data": {
      "text/plain": [
       "array([0, 1, 2, 3, 4])"
      ]
     },
     "execution_count": 63,
     "metadata": {},
     "output_type": "execute_result"
    }
   ],
   "source": [
    "np.arange(5)"
   ]
  },
  {
   "cell_type": "markdown",
   "id": "3210bfcb",
   "metadata": {},
   "source": [
    "# We can also specify a starting point for the range:"
   ]
  },
  {
   "cell_type": "code",
   "execution_count": 65,
   "id": "0dcfa5e1",
   "metadata": {},
   "outputs": [
    {
     "data": {
      "text/plain": [
       "array([1, 2, 3, 4, 5, 6, 7])"
      ]
     },
     "execution_count": 65,
     "metadata": {},
     "output_type": "execute_result"
    }
   ],
   "source": [
    "np.arange(1, 8)"
   ]
  },
  {
   "cell_type": "markdown",
   "id": "22f7d034",
   "metadata": {},
   "source": [
    "# As well as a step:"
   ]
  },
  {
   "cell_type": "code",
   "execution_count": 66,
   "id": "87584b8c",
   "metadata": {},
   "outputs": [
    {
     "data": {
      "text/plain": [
       "array([1, 3, 5, 7])"
      ]
     },
     "execution_count": 66,
     "metadata": {},
     "output_type": "execute_result"
    }
   ],
   "source": [
    "np.arange(1, 8, 2)"
   ]
  },
  {
   "cell_type": "markdown",
   "id": "cc3aab94",
   "metadata": {},
   "source": [
    "# Unlike python's builtin range, numpy's arange can handle decimal numbers"
   ]
  },
  {
   "cell_type": "code",
   "execution_count": 67,
   "id": "f9ac2e16",
   "metadata": {},
   "outputs": [
    {
     "data": {
      "text/plain": [
       "array([1. , 1.5, 2. , 2.5, 3. , 3.5, 4. , 4.5, 5. , 5.5, 6. , 6.5, 7. ,\n",
       "       7.5])"
      ]
     },
     "execution_count": 67,
     "metadata": {},
     "output_type": "execute_result"
    }
   ],
   "source": [
    "np.arange(1, 8, 0.5)"
   ]
  },
  {
   "cell_type": "code",
   "execution_count": 68,
   "id": "3c6535e3",
   "metadata": {},
   "outputs": [
    {
     "data": {
      "text/plain": [
       "array([1. , 1.5, 2. , 2.5, 3. , 3.5, 4. , 4.5, 5. , 5.5, 6. ])"
      ]
     },
     "execution_count": 68,
     "metadata": {},
     "output_type": "execute_result"
    }
   ],
   "source": [
    "np.arange(1, 6.5, 0.5)"
   ]
  },
  {
   "cell_type": "code",
   "execution_count": 69,
   "id": "3d301d5e",
   "metadata": {},
   "outputs": [
    {
     "data": {
      "text/plain": [
       "array([1., 2., 3., 4., 5.])"
      ]
     },
     "execution_count": 69,
     "metadata": {},
     "output_type": "execute_result"
    }
   ],
   "source": [
    "np.arange(1, 5.5)"
   ]
  },
  {
   "cell_type": "markdown",
   "id": "71a2bf1f",
   "metadata": {},
   "source": [
    "# The linspace method creates a range of numbers between a minimum and a maximum, with a set number of elements."
   ]
  },
  {
   "cell_type": "code",
   "execution_count": 70,
   "id": "4a92f3b2",
   "metadata": {},
   "outputs": [
    {
     "name": "stdout",
     "output_type": "stream",
     "text": [
      "min: 1, max: 4, length = 4 -- [1. 2. 3. 4.]\n",
      "min: 1, max: 4, length = 7 -- [1.  1.5 2.  2.5 3.  3.5 4. ] \n"
     ]
    }
   ],
   "source": [
    "print('min: 1, max: 4, length = 4 -- {}'.format(np.linspace(1, 4, 4)))\n",
    "print('min: 1, max: 4, length = 7 -- {} '.format(np.linspace(1, 4, 7)))"
   ]
  },
  {
   "cell_type": "code",
   "execution_count": 71,
   "id": "4323827d",
   "metadata": {},
   "outputs": [
    {
     "data": {
      "text/plain": [
       "array([1. , 1.5, 2. ])"
      ]
     },
     "execution_count": 71,
     "metadata": {},
     "output_type": "execute_result"
    }
   ],
   "source": [
    "np.linspace(1, 2, 3)"
   ]
  },
  {
   "cell_type": "code",
   "execution_count": 72,
   "id": "4ff7fea2",
   "metadata": {},
   "outputs": [
    {
     "data": {
      "text/plain": [
       "array([1., 2., 3., 4., 5., 6., 7.])"
      ]
     },
     "execution_count": 72,
     "metadata": {},
     "output_type": "execute_result"
    }
   ],
   "source": [
    "np.linspace(1, 7, 7)"
   ]
  },
  {
   "cell_type": "code",
   "execution_count": 73,
   "id": "f1160c16",
   "metadata": {},
   "outputs": [
    {
     "data": {
      "text/plain": [
       "array([1.        , 1.66666667, 2.33333333, 3.        , 3.66666667,\n",
       "       4.33333333, 5.        , 5.66666667, 6.33333333, 7.        ])"
      ]
     },
     "execution_count": 73,
     "metadata": {},
     "output_type": "execute_result"
    }
   ],
   "source": [
    "np.linspace(1, 7, 10)"
   ]
  },
  {
   "cell_type": "code",
   "execution_count": null,
   "id": "23a45710",
   "metadata": {},
   "outputs": [],
   "source": []
  }
 ],
 "metadata": {
  "kernelspec": {
   "display_name": "Python 3 (ipykernel)",
   "language": "python",
   "name": "python3"
  },
  "language_info": {
   "codemirror_mode": {
    "name": "ipython",
    "version": 3
   },
   "file_extension": ".py",
   "mimetype": "text/x-python",
   "name": "python",
   "nbconvert_exporter": "python",
   "pygments_lexer": "ipython3",
   "version": "3.8.8"
  }
 },
 "nbformat": 4,
 "nbformat_minor": 5
}
