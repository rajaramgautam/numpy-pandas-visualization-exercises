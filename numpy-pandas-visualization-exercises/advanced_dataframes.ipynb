{
 "cells": [
  {
   "cell_type": "code",
   "execution_count": 2,
   "id": "329bd14e",
   "metadata": {},
   "outputs": [],
   "source": [
    "# Let's make a function that takes in a database name as a string\n",
    "# this function also performs our imports from env\n",
    "def get_db_url(db_name):\n",
    "    from env import user, host, password\n",
    "    return f'mysql+pymysql://{user}:{password}@{host}/{db_name}'"
   ]
  },
  {
   "cell_type": "code",
   "execution_count": 3,
   "id": "606ad995",
   "metadata": {},
   "outputs": [],
   "source": [
    "import pandas as pd\n",
    "import numpy as py"
   ]
  },
  {
   "cell_type": "code",
   "execution_count": 4,
   "id": "fbd23e5f",
   "metadata": {},
   "outputs": [],
   "source": [
    "sql = \"\"\"\n",
    "    SELECT * from employees limit 3000\n",
    "\"\"\""
   ]
  },
  {
   "cell_type": "code",
   "execution_count": 5,
   "id": "750c038d",
   "metadata": {},
   "outputs": [
    {
     "data": {
      "text/html": [
       "<div>\n",
       "<style scoped>\n",
       "    .dataframe tbody tr th:only-of-type {\n",
       "        vertical-align: middle;\n",
       "    }\n",
       "\n",
       "    .dataframe tbody tr th {\n",
       "        vertical-align: top;\n",
       "    }\n",
       "\n",
       "    .dataframe thead th {\n",
       "        text-align: right;\n",
       "    }\n",
       "</style>\n",
       "<table border=\"1\" class=\"dataframe\">\n",
       "  <thead>\n",
       "    <tr style=\"text-align: right;\">\n",
       "      <th></th>\n",
       "      <th>emp_no</th>\n",
       "      <th>birth_date</th>\n",
       "      <th>first_name</th>\n",
       "      <th>last_name</th>\n",
       "      <th>gender</th>\n",
       "      <th>hire_date</th>\n",
       "    </tr>\n",
       "  </thead>\n",
       "  <tbody>\n",
       "    <tr>\n",
       "      <th>0</th>\n",
       "      <td>10001</td>\n",
       "      <td>1953-09-02</td>\n",
       "      <td>Georgi</td>\n",
       "      <td>Facello</td>\n",
       "      <td>M</td>\n",
       "      <td>1986-06-26</td>\n",
       "    </tr>\n",
       "    <tr>\n",
       "      <th>1</th>\n",
       "      <td>10002</td>\n",
       "      <td>1964-06-02</td>\n",
       "      <td>Bezalel</td>\n",
       "      <td>Simmel</td>\n",
       "      <td>F</td>\n",
       "      <td>1985-11-21</td>\n",
       "    </tr>\n",
       "    <tr>\n",
       "      <th>2</th>\n",
       "      <td>10003</td>\n",
       "      <td>1959-12-03</td>\n",
       "      <td>Parto</td>\n",
       "      <td>Bamford</td>\n",
       "      <td>M</td>\n",
       "      <td>1986-08-28</td>\n",
       "    </tr>\n",
       "    <tr>\n",
       "      <th>3</th>\n",
       "      <td>10004</td>\n",
       "      <td>1954-05-01</td>\n",
       "      <td>Chirstian</td>\n",
       "      <td>Koblick</td>\n",
       "      <td>M</td>\n",
       "      <td>1986-12-01</td>\n",
       "    </tr>\n",
       "    <tr>\n",
       "      <th>4</th>\n",
       "      <td>10005</td>\n",
       "      <td>1955-01-21</td>\n",
       "      <td>Kyoichi</td>\n",
       "      <td>Maliniak</td>\n",
       "      <td>M</td>\n",
       "      <td>1989-09-12</td>\n",
       "    </tr>\n",
       "    <tr>\n",
       "      <th>...</th>\n",
       "      <td>...</td>\n",
       "      <td>...</td>\n",
       "      <td>...</td>\n",
       "      <td>...</td>\n",
       "      <td>...</td>\n",
       "      <td>...</td>\n",
       "    </tr>\n",
       "    <tr>\n",
       "      <th>2995</th>\n",
       "      <td>12996</td>\n",
       "      <td>1964-12-07</td>\n",
       "      <td>Khalil</td>\n",
       "      <td>Madeira</td>\n",
       "      <td>F</td>\n",
       "      <td>1992-07-14</td>\n",
       "    </tr>\n",
       "    <tr>\n",
       "      <th>2996</th>\n",
       "      <td>12997</td>\n",
       "      <td>1956-09-22</td>\n",
       "      <td>Zine</td>\n",
       "      <td>Swist</td>\n",
       "      <td>F</td>\n",
       "      <td>1991-03-22</td>\n",
       "    </tr>\n",
       "    <tr>\n",
       "      <th>2997</th>\n",
       "      <td>12998</td>\n",
       "      <td>1956-09-02</td>\n",
       "      <td>Nadjib</td>\n",
       "      <td>Rindone</td>\n",
       "      <td>M</td>\n",
       "      <td>1991-01-23</td>\n",
       "    </tr>\n",
       "    <tr>\n",
       "      <th>2998</th>\n",
       "      <td>12999</td>\n",
       "      <td>1963-10-13</td>\n",
       "      <td>Taizo</td>\n",
       "      <td>Koyama</td>\n",
       "      <td>F</td>\n",
       "      <td>1991-11-06</td>\n",
       "    </tr>\n",
       "    <tr>\n",
       "      <th>2999</th>\n",
       "      <td>13000</td>\n",
       "      <td>1955-01-31</td>\n",
       "      <td>Adhemar</td>\n",
       "      <td>Chiodo</td>\n",
       "      <td>F</td>\n",
       "      <td>1994-05-11</td>\n",
       "    </tr>\n",
       "  </tbody>\n",
       "</table>\n",
       "<p>3000 rows × 6 columns</p>\n",
       "</div>"
      ],
      "text/plain": [
       "      emp_no  birth_date first_name last_name gender   hire_date\n",
       "0      10001  1953-09-02     Georgi   Facello      M  1986-06-26\n",
       "1      10002  1964-06-02    Bezalel    Simmel      F  1985-11-21\n",
       "2      10003  1959-12-03      Parto   Bamford      M  1986-08-28\n",
       "3      10004  1954-05-01  Chirstian   Koblick      M  1986-12-01\n",
       "4      10005  1955-01-21    Kyoichi  Maliniak      M  1989-09-12\n",
       "...      ...         ...        ...       ...    ...         ...\n",
       "2995   12996  1964-12-07     Khalil   Madeira      F  1992-07-14\n",
       "2996   12997  1956-09-22       Zine     Swist      F  1991-03-22\n",
       "2997   12998  1956-09-02     Nadjib   Rindone      M  1991-01-23\n",
       "2998   12999  1963-10-13      Taizo    Koyama      F  1991-11-06\n",
       "2999   13000  1955-01-31    Adhemar    Chiodo      F  1994-05-11\n",
       "\n",
       "[3000 rows x 6 columns]"
      ]
     },
     "execution_count": 5,
     "metadata": {},
     "output_type": "execute_result"
    }
   ],
   "source": [
    "# Called the \"Connection string\" b/c it has all the info to connect\n",
    "url = get_db_url(\"employees\")\n",
    "\n",
    "df = pd.read_sql(sql, url)\n",
    "df"
   ]
  },
  {
   "cell_type": "code",
   "execution_count": null,
   "id": "0d3ddf01",
   "metadata": {},
   "outputs": [],
   "source": []
  },
  {
   "cell_type": "code",
   "execution_count": null,
   "id": "c43b0b98",
   "metadata": {},
   "outputs": [],
   "source": [
    "# Read a CSV from a webpage hosting a CSV\n",
    "url = \"https://gist.githubusercontent.com/ryanorsinger/19bc7eccd6279661bd13307026628ace/raw/e4b5d6787015a4782f96cad6d1d62a8bdbac54c7/lemonade.csv\"\n",
    "lemonade = pd.read_csv(url)\n",
    "lemonade.head()"
   ]
  },
  {
   "cell_type": "code",
   "execution_count": null,
   "id": "48554dc4",
   "metadata": {},
   "outputs": [],
   "source": [
    "# JSON is short for JavaScript Object Notation\n",
    "# Cool part is JSON is automatically valid python syntax for: a dictionary or a list of dictionaries\n",
    "quotes = pd.read_json(\"https://aphorisms.glitch.me/api/all\")\n",
    "quotes.head()"
   ]
  },
  {
   "cell_type": "markdown",
   "id": "fcb2c526",
   "metadata": {},
   "source": [
    "# Exercises I\n",
    "\n",
    "# Run python -m pip install pymysql from your terminal to install pymysql.\n",
    "\n",
    "# Create a notebook or python script named advanced_dataframes to do your work in for these exercises.\n",
    "\n",
    "\n",
    "\n",
    "\n"
   ]
  },
  {
   "cell_type": "markdown",
   "id": "3adad7db",
   "metadata": {},
   "source": [
    "# 1. Run python -m pip install pymysql from your terminal to install the mysql client (any folder is fine)"
   ]
  },
  {
   "cell_type": "code",
   "execution_count": 58,
   "id": "4e4514b3",
   "metadata": {},
   "outputs": [],
   "source": [
    "# pymysql package installed"
   ]
  },
  {
   "cell_type": "markdown",
   "id": "38005c89",
   "metadata": {},
   "source": [
    "# 2. cd into your exercises folder for this module and run echo env.py >> .gitignore"
   ]
  },
  {
   "cell_type": "code",
   "execution_count": null,
   "id": "84d2d3cf",
   "metadata": {},
   "outputs": [],
   "source": [
    "# task completed"
   ]
  },
  {
   "cell_type": "markdown",
   "id": "67bd0b12",
   "metadata": {},
   "source": [
    "# 3. Create a function named get_db_url. It should accept a username, hostname, password, and database name and return a url connection string formatted like in the example at the start of this lesson.\n"
   ]
  },
  {
   "cell_type": "code",
   "execution_count": 59,
   "id": "f6336a5c",
   "metadata": {},
   "outputs": [],
   "source": [
    "# Let's make a function that takes in a database name as a string\n",
    "# this function also performs our imports from env\n",
    "def get_db_url(db_name):\n",
    "    from env import user, host, password\n",
    "    return f'mysql+pymysql://{user}:{password}@{host}/{db_name}'"
   ]
  },
  {
   "cell_type": "markdown",
   "id": "2cbdd8b2",
   "metadata": {},
   "source": [
    "# 4. Use your function to obtain a connection to the employees database."
   ]
  },
  {
   "cell_type": "code",
   "execution_count": 60,
   "id": "9cd406a7",
   "metadata": {},
   "outputs": [],
   "source": [
    "def get_db_url(employees):\n",
    "    from env import user, host, password\n",
    "    return f'mysql+pymysql://{user}:{password}@{host}/{employees}'\n",
    "    \n",
    "    "
   ]
  },
  {
   "cell_type": "code",
   "execution_count": 61,
   "id": "4daaf0ce",
   "metadata": {},
   "outputs": [
    {
     "data": {
      "text/html": [
       "<div>\n",
       "<style scoped>\n",
       "    .dataframe tbody tr th:only-of-type {\n",
       "        vertical-align: middle;\n",
       "    }\n",
       "\n",
       "    .dataframe tbody tr th {\n",
       "        vertical-align: top;\n",
       "    }\n",
       "\n",
       "    .dataframe thead th {\n",
       "        text-align: right;\n",
       "    }\n",
       "</style>\n",
       "<table border=\"1\" class=\"dataframe\">\n",
       "  <thead>\n",
       "    <tr style=\"text-align: right;\">\n",
       "      <th></th>\n",
       "      <th>emp_no</th>\n",
       "      <th>birth_date</th>\n",
       "      <th>first_name</th>\n",
       "      <th>last_name</th>\n",
       "      <th>gender</th>\n",
       "      <th>hire_date</th>\n",
       "    </tr>\n",
       "  </thead>\n",
       "  <tbody>\n",
       "    <tr>\n",
       "      <th>0</th>\n",
       "      <td>10001</td>\n",
       "      <td>1953-09-02</td>\n",
       "      <td>Georgi</td>\n",
       "      <td>Facello</td>\n",
       "      <td>M</td>\n",
       "      <td>1986-06-26</td>\n",
       "    </tr>\n",
       "    <tr>\n",
       "      <th>1</th>\n",
       "      <td>10002</td>\n",
       "      <td>1964-06-02</td>\n",
       "      <td>Bezalel</td>\n",
       "      <td>Simmel</td>\n",
       "      <td>F</td>\n",
       "      <td>1985-11-21</td>\n",
       "    </tr>\n",
       "    <tr>\n",
       "      <th>2</th>\n",
       "      <td>10003</td>\n",
       "      <td>1959-12-03</td>\n",
       "      <td>Parto</td>\n",
       "      <td>Bamford</td>\n",
       "      <td>M</td>\n",
       "      <td>1986-08-28</td>\n",
       "    </tr>\n",
       "    <tr>\n",
       "      <th>3</th>\n",
       "      <td>10004</td>\n",
       "      <td>1954-05-01</td>\n",
       "      <td>Chirstian</td>\n",
       "      <td>Koblick</td>\n",
       "      <td>M</td>\n",
       "      <td>1986-12-01</td>\n",
       "    </tr>\n",
       "    <tr>\n",
       "      <th>4</th>\n",
       "      <td>10005</td>\n",
       "      <td>1955-01-21</td>\n",
       "      <td>Kyoichi</td>\n",
       "      <td>Maliniak</td>\n",
       "      <td>M</td>\n",
       "      <td>1989-09-12</td>\n",
       "    </tr>\n",
       "    <tr>\n",
       "      <th>...</th>\n",
       "      <td>...</td>\n",
       "      <td>...</td>\n",
       "      <td>...</td>\n",
       "      <td>...</td>\n",
       "      <td>...</td>\n",
       "      <td>...</td>\n",
       "    </tr>\n",
       "    <tr>\n",
       "      <th>2995</th>\n",
       "      <td>12996</td>\n",
       "      <td>1964-12-07</td>\n",
       "      <td>Khalil</td>\n",
       "      <td>Madeira</td>\n",
       "      <td>F</td>\n",
       "      <td>1992-07-14</td>\n",
       "    </tr>\n",
       "    <tr>\n",
       "      <th>2996</th>\n",
       "      <td>12997</td>\n",
       "      <td>1956-09-22</td>\n",
       "      <td>Zine</td>\n",
       "      <td>Swist</td>\n",
       "      <td>F</td>\n",
       "      <td>1991-03-22</td>\n",
       "    </tr>\n",
       "    <tr>\n",
       "      <th>2997</th>\n",
       "      <td>12998</td>\n",
       "      <td>1956-09-02</td>\n",
       "      <td>Nadjib</td>\n",
       "      <td>Rindone</td>\n",
       "      <td>M</td>\n",
       "      <td>1991-01-23</td>\n",
       "    </tr>\n",
       "    <tr>\n",
       "      <th>2998</th>\n",
       "      <td>12999</td>\n",
       "      <td>1963-10-13</td>\n",
       "      <td>Taizo</td>\n",
       "      <td>Koyama</td>\n",
       "      <td>F</td>\n",
       "      <td>1991-11-06</td>\n",
       "    </tr>\n",
       "    <tr>\n",
       "      <th>2999</th>\n",
       "      <td>13000</td>\n",
       "      <td>1955-01-31</td>\n",
       "      <td>Adhemar</td>\n",
       "      <td>Chiodo</td>\n",
       "      <td>F</td>\n",
       "      <td>1994-05-11</td>\n",
       "    </tr>\n",
       "  </tbody>\n",
       "</table>\n",
       "<p>3000 rows × 6 columns</p>\n",
       "</div>"
      ],
      "text/plain": [
       "      emp_no  birth_date first_name last_name gender   hire_date\n",
       "0      10001  1953-09-02     Georgi   Facello      M  1986-06-26\n",
       "1      10002  1964-06-02    Bezalel    Simmel      F  1985-11-21\n",
       "2      10003  1959-12-03      Parto   Bamford      M  1986-08-28\n",
       "3      10004  1954-05-01  Chirstian   Koblick      M  1986-12-01\n",
       "4      10005  1955-01-21    Kyoichi  Maliniak      M  1989-09-12\n",
       "...      ...         ...        ...       ...    ...         ...\n",
       "2995   12996  1964-12-07     Khalil   Madeira      F  1992-07-14\n",
       "2996   12997  1956-09-22       Zine     Swist      F  1991-03-22\n",
       "2997   12998  1956-09-02     Nadjib   Rindone      M  1991-01-23\n",
       "2998   12999  1963-10-13      Taizo    Koyama      F  1991-11-06\n",
       "2999   13000  1955-01-31    Adhemar    Chiodo      F  1994-05-11\n",
       "\n",
       "[3000 rows x 6 columns]"
      ]
     },
     "execution_count": 61,
     "metadata": {},
     "output_type": "execute_result"
    }
   ],
   "source": [
    "url = get_db_url(\"employees\")\n",
    "\n",
    "df = pd.read_sql(sql, url)\n",
    "df"
   ]
  },
  {
   "cell_type": "markdown",
   "id": "084e3aa6",
   "metadata": {},
   "source": [
    "# 5. Once you have successfully run a query:\n",
    "\n",
    "#   a. Intentionally make a typo in the database url. What kind of error message do you see?\n",
    "\n",
    "#   b. Intentionally make an error in your SQL query. What does the error message look like?\n",
    "\n",
    "\n",
    "\n",
    "\n",
    "\n",
    "\n",
    "\n",
    "\n",
    "\n",
    "\n",
    "\n"
   ]
  },
  {
   "cell_type": "code",
   "execution_count": 1,
   "id": "fd8d6047",
   "metadata": {},
   "outputs": [
    {
     "ename": "IndentationError",
     "evalue": "unexpected indent (1715806571.py, line 2)",
     "output_type": "error",
     "traceback": [
      "\u001b[0;36m  File \u001b[0;32m\"/var/folders/zq/x5sj66553p9dvbt1_y838q_h0000gn/T/ipykernel_5492/1715806571.py\"\u001b[0;36m, line \u001b[0;32m2\u001b[0m\n\u001b[0;31m    i. ConnectionRefusedError\u001b[0m\n\u001b[0m    ^\u001b[0m\n\u001b[0;31mIndentationError\u001b[0m\u001b[0;31m:\u001b[0m unexpected indent\n"
     ]
    }
   ],
   "source": [
    "5\n",
    " i. ConnectionRefusedError\n",
    "ii. OperationalError: (2003, \"Can't connect to MySQL server on '157.230.209.170' ([Errno 61] Connection refused)\")\n",
    "\n",
    "The above exception was the direct cause of the following exception:"
   ]
  },
  {
   "cell_type": "code",
   "execution_count": null,
   "id": "9e47d329",
   "metadata": {},
   "outputs": [],
   "source": [
    "5 b. ProgrammingError: (pymysql.err.ProgrammingError) (1146, \"Table 'employees.employee' doesn't exist\")\n",
    "[SQL: \n",
    "    SELECT * from employee limit 3000\n",
    "]\n",
    "(Background on this error at: https://sqlalche.me/e/14/f405)"
   ]
  },
  {
   "cell_type": "markdown",
   "id": "920046f0",
   "metadata": {},
   "source": [
    "# 6. Read the employees and titles tables into two separate DataFrames."
   ]
  },
  {
   "cell_type": "code",
   "execution_count": 6,
   "id": "19289a7d",
   "metadata": {},
   "outputs": [],
   "source": [
    "sql = \"\"\"\n",
    "    SELECT * from employees limit 3000\n",
    "\"\"\""
   ]
  },
  {
   "cell_type": "code",
   "execution_count": 16,
   "id": "d1ae69ad",
   "metadata": {},
   "outputs": [],
   "source": [
    "sql1 =\"\"\"\n",
    "SELECT * FROM titles\n",
    "\"\"\""
   ]
  },
  {
   "cell_type": "code",
   "execution_count": 17,
   "id": "a8c98653",
   "metadata": {},
   "outputs": [
    {
     "data": {
      "text/html": [
       "<div>\n",
       "<style scoped>\n",
       "    .dataframe tbody tr th:only-of-type {\n",
       "        vertical-align: middle;\n",
       "    }\n",
       "\n",
       "    .dataframe tbody tr th {\n",
       "        vertical-align: top;\n",
       "    }\n",
       "\n",
       "    .dataframe thead th {\n",
       "        text-align: right;\n",
       "    }\n",
       "</style>\n",
       "<table border=\"1\" class=\"dataframe\">\n",
       "  <thead>\n",
       "    <tr style=\"text-align: right;\">\n",
       "      <th></th>\n",
       "      <th>emp_no</th>\n",
       "      <th>birth_date</th>\n",
       "      <th>first_name</th>\n",
       "      <th>last_name</th>\n",
       "      <th>gender</th>\n",
       "      <th>hire_date</th>\n",
       "    </tr>\n",
       "  </thead>\n",
       "  <tbody>\n",
       "    <tr>\n",
       "      <th>0</th>\n",
       "      <td>10001</td>\n",
       "      <td>1953-09-02</td>\n",
       "      <td>Georgi</td>\n",
       "      <td>Facello</td>\n",
       "      <td>M</td>\n",
       "      <td>1986-06-26</td>\n",
       "    </tr>\n",
       "    <tr>\n",
       "      <th>1</th>\n",
       "      <td>10002</td>\n",
       "      <td>1964-06-02</td>\n",
       "      <td>Bezalel</td>\n",
       "      <td>Simmel</td>\n",
       "      <td>F</td>\n",
       "      <td>1985-11-21</td>\n",
       "    </tr>\n",
       "    <tr>\n",
       "      <th>2</th>\n",
       "      <td>10003</td>\n",
       "      <td>1959-12-03</td>\n",
       "      <td>Parto</td>\n",
       "      <td>Bamford</td>\n",
       "      <td>M</td>\n",
       "      <td>1986-08-28</td>\n",
       "    </tr>\n",
       "    <tr>\n",
       "      <th>3</th>\n",
       "      <td>10004</td>\n",
       "      <td>1954-05-01</td>\n",
       "      <td>Chirstian</td>\n",
       "      <td>Koblick</td>\n",
       "      <td>M</td>\n",
       "      <td>1986-12-01</td>\n",
       "    </tr>\n",
       "    <tr>\n",
       "      <th>4</th>\n",
       "      <td>10005</td>\n",
       "      <td>1955-01-21</td>\n",
       "      <td>Kyoichi</td>\n",
       "      <td>Maliniak</td>\n",
       "      <td>M</td>\n",
       "      <td>1989-09-12</td>\n",
       "    </tr>\n",
       "    <tr>\n",
       "      <th>...</th>\n",
       "      <td>...</td>\n",
       "      <td>...</td>\n",
       "      <td>...</td>\n",
       "      <td>...</td>\n",
       "      <td>...</td>\n",
       "      <td>...</td>\n",
       "    </tr>\n",
       "    <tr>\n",
       "      <th>2995</th>\n",
       "      <td>12996</td>\n",
       "      <td>1964-12-07</td>\n",
       "      <td>Khalil</td>\n",
       "      <td>Madeira</td>\n",
       "      <td>F</td>\n",
       "      <td>1992-07-14</td>\n",
       "    </tr>\n",
       "    <tr>\n",
       "      <th>2996</th>\n",
       "      <td>12997</td>\n",
       "      <td>1956-09-22</td>\n",
       "      <td>Zine</td>\n",
       "      <td>Swist</td>\n",
       "      <td>F</td>\n",
       "      <td>1991-03-22</td>\n",
       "    </tr>\n",
       "    <tr>\n",
       "      <th>2997</th>\n",
       "      <td>12998</td>\n",
       "      <td>1956-09-02</td>\n",
       "      <td>Nadjib</td>\n",
       "      <td>Rindone</td>\n",
       "      <td>M</td>\n",
       "      <td>1991-01-23</td>\n",
       "    </tr>\n",
       "    <tr>\n",
       "      <th>2998</th>\n",
       "      <td>12999</td>\n",
       "      <td>1963-10-13</td>\n",
       "      <td>Taizo</td>\n",
       "      <td>Koyama</td>\n",
       "      <td>F</td>\n",
       "      <td>1991-11-06</td>\n",
       "    </tr>\n",
       "    <tr>\n",
       "      <th>2999</th>\n",
       "      <td>13000</td>\n",
       "      <td>1955-01-31</td>\n",
       "      <td>Adhemar</td>\n",
       "      <td>Chiodo</td>\n",
       "      <td>F</td>\n",
       "      <td>1994-05-11</td>\n",
       "    </tr>\n",
       "  </tbody>\n",
       "</table>\n",
       "<p>3000 rows × 6 columns</p>\n",
       "</div>"
      ],
      "text/plain": [
       "      emp_no  birth_date first_name last_name gender   hire_date\n",
       "0      10001  1953-09-02     Georgi   Facello      M  1986-06-26\n",
       "1      10002  1964-06-02    Bezalel    Simmel      F  1985-11-21\n",
       "2      10003  1959-12-03      Parto   Bamford      M  1986-08-28\n",
       "3      10004  1954-05-01  Chirstian   Koblick      M  1986-12-01\n",
       "4      10005  1955-01-21    Kyoichi  Maliniak      M  1989-09-12\n",
       "...      ...         ...        ...       ...    ...         ...\n",
       "2995   12996  1964-12-07     Khalil   Madeira      F  1992-07-14\n",
       "2996   12997  1956-09-22       Zine     Swist      F  1991-03-22\n",
       "2997   12998  1956-09-02     Nadjib   Rindone      M  1991-01-23\n",
       "2998   12999  1963-10-13      Taizo    Koyama      F  1991-11-06\n",
       "2999   13000  1955-01-31    Adhemar    Chiodo      F  1994-05-11\n",
       "\n",
       "[3000 rows x 6 columns]"
      ]
     },
     "execution_count": 17,
     "metadata": {},
     "output_type": "execute_result"
    }
   ],
   "source": [
    "url = get_db_url(\"employees\")\n",
    "\n",
    "df = pd.read_sql(sql, url)\n",
    "df"
   ]
  },
  {
   "cell_type": "code",
   "execution_count": 18,
   "id": "d0a0c0de",
   "metadata": {},
   "outputs": [
    {
     "data": {
      "text/html": [
       "<div>\n",
       "<style scoped>\n",
       "    .dataframe tbody tr th:only-of-type {\n",
       "        vertical-align: middle;\n",
       "    }\n",
       "\n",
       "    .dataframe tbody tr th {\n",
       "        vertical-align: top;\n",
       "    }\n",
       "\n",
       "    .dataframe thead th {\n",
       "        text-align: right;\n",
       "    }\n",
       "</style>\n",
       "<table border=\"1\" class=\"dataframe\">\n",
       "  <thead>\n",
       "    <tr style=\"text-align: right;\">\n",
       "      <th></th>\n",
       "      <th>emp_no</th>\n",
       "      <th>title</th>\n",
       "      <th>from_date</th>\n",
       "      <th>to_date</th>\n",
       "    </tr>\n",
       "  </thead>\n",
       "  <tbody>\n",
       "    <tr>\n",
       "      <th>0</th>\n",
       "      <td>10001</td>\n",
       "      <td>Senior Engineer</td>\n",
       "      <td>1986-06-26</td>\n",
       "      <td>9999-01-01</td>\n",
       "    </tr>\n",
       "    <tr>\n",
       "      <th>1</th>\n",
       "      <td>10002</td>\n",
       "      <td>Staff</td>\n",
       "      <td>1996-08-03</td>\n",
       "      <td>9999-01-01</td>\n",
       "    </tr>\n",
       "    <tr>\n",
       "      <th>2</th>\n",
       "      <td>10003</td>\n",
       "      <td>Senior Engineer</td>\n",
       "      <td>1995-12-03</td>\n",
       "      <td>9999-01-01</td>\n",
       "    </tr>\n",
       "    <tr>\n",
       "      <th>3</th>\n",
       "      <td>10004</td>\n",
       "      <td>Engineer</td>\n",
       "      <td>1986-12-01</td>\n",
       "      <td>1995-12-01</td>\n",
       "    </tr>\n",
       "    <tr>\n",
       "      <th>4</th>\n",
       "      <td>10004</td>\n",
       "      <td>Senior Engineer</td>\n",
       "      <td>1995-12-01</td>\n",
       "      <td>9999-01-01</td>\n",
       "    </tr>\n",
       "    <tr>\n",
       "      <th>...</th>\n",
       "      <td>...</td>\n",
       "      <td>...</td>\n",
       "      <td>...</td>\n",
       "      <td>...</td>\n",
       "    </tr>\n",
       "    <tr>\n",
       "      <th>443303</th>\n",
       "      <td>499997</td>\n",
       "      <td>Engineer</td>\n",
       "      <td>1987-08-30</td>\n",
       "      <td>1992-08-29</td>\n",
       "    </tr>\n",
       "    <tr>\n",
       "      <th>443304</th>\n",
       "      <td>499997</td>\n",
       "      <td>Senior Engineer</td>\n",
       "      <td>1992-08-29</td>\n",
       "      <td>9999-01-01</td>\n",
       "    </tr>\n",
       "    <tr>\n",
       "      <th>443305</th>\n",
       "      <td>499998</td>\n",
       "      <td>Senior Staff</td>\n",
       "      <td>1998-12-27</td>\n",
       "      <td>9999-01-01</td>\n",
       "    </tr>\n",
       "    <tr>\n",
       "      <th>443306</th>\n",
       "      <td>499998</td>\n",
       "      <td>Staff</td>\n",
       "      <td>1993-12-27</td>\n",
       "      <td>1998-12-27</td>\n",
       "    </tr>\n",
       "    <tr>\n",
       "      <th>443307</th>\n",
       "      <td>499999</td>\n",
       "      <td>Engineer</td>\n",
       "      <td>1997-11-30</td>\n",
       "      <td>9999-01-01</td>\n",
       "    </tr>\n",
       "  </tbody>\n",
       "</table>\n",
       "<p>443308 rows × 4 columns</p>\n",
       "</div>"
      ],
      "text/plain": [
       "        emp_no            title   from_date     to_date\n",
       "0        10001  Senior Engineer  1986-06-26  9999-01-01\n",
       "1        10002            Staff  1996-08-03  9999-01-01\n",
       "2        10003  Senior Engineer  1995-12-03  9999-01-01\n",
       "3        10004         Engineer  1986-12-01  1995-12-01\n",
       "4        10004  Senior Engineer  1995-12-01  9999-01-01\n",
       "...        ...              ...         ...         ...\n",
       "443303  499997         Engineer  1987-08-30  1992-08-29\n",
       "443304  499997  Senior Engineer  1992-08-29  9999-01-01\n",
       "443305  499998     Senior Staff  1998-12-27  9999-01-01\n",
       "443306  499998            Staff  1993-12-27  1998-12-27\n",
       "443307  499999         Engineer  1997-11-30  9999-01-01\n",
       "\n",
       "[443308 rows x 4 columns]"
      ]
     },
     "execution_count": 18,
     "metadata": {},
     "output_type": "execute_result"
    }
   ],
   "source": [
    "url = get_db_url(\"employees\")\n",
    "\n",
    "new_df = pd.read_sql(sql1, url)\n",
    "new_df"
   ]
  },
  {
   "cell_type": "markdown",
   "id": "5afd725b",
   "metadata": {},
   "source": [
    "# 7. How many rows and columns do you have in each DataFrame? Is that what you expected?"
   ]
  },
  {
   "cell_type": "code",
   "execution_count": 19,
   "id": "0f9d03dd",
   "metadata": {},
   "outputs": [
    {
     "data": {
      "text/plain": [
       "(3000, 6)"
      ]
     },
     "execution_count": 19,
     "metadata": {},
     "output_type": "execute_result"
    }
   ],
   "source": [
    "df.shape"
   ]
  },
  {
   "cell_type": "code",
   "execution_count": 21,
   "id": "bd154633",
   "metadata": {},
   "outputs": [
    {
     "data": {
      "text/plain": [
       "3000"
      ]
     },
     "execution_count": 21,
     "metadata": {},
     "output_type": "execute_result"
    }
   ],
   "source": [
    "# Row \n",
    "df.shape[0]"
   ]
  },
  {
   "cell_type": "code",
   "execution_count": 22,
   "id": "3923be9d",
   "metadata": {},
   "outputs": [
    {
     "data": {
      "text/plain": [
       "6"
      ]
     },
     "execution_count": 22,
     "metadata": {},
     "output_type": "execute_result"
    }
   ],
   "source": [
    "# Columns\n",
    "df.shape[1]"
   ]
  },
  {
   "cell_type": "code",
   "execution_count": 20,
   "id": "de733e3e",
   "metadata": {},
   "outputs": [
    {
     "data": {
      "text/plain": [
       "(443308, 4)"
      ]
     },
     "execution_count": 20,
     "metadata": {},
     "output_type": "execute_result"
    }
   ],
   "source": [
    "new_df.shape"
   ]
  },
  {
   "cell_type": "code",
   "execution_count": 24,
   "id": "62930057",
   "metadata": {},
   "outputs": [
    {
     "data": {
      "text/plain": [
       "443308"
      ]
     },
     "execution_count": 24,
     "metadata": {},
     "output_type": "execute_result"
    }
   ],
   "source": [
    "# Row\n",
    "new_df.shape[0]"
   ]
  },
  {
   "cell_type": "code",
   "execution_count": 25,
   "id": "7075067f",
   "metadata": {},
   "outputs": [
    {
     "data": {
      "text/plain": [
       "4"
      ]
     },
     "execution_count": 25,
     "metadata": {},
     "output_type": "execute_result"
    }
   ],
   "source": [
    "# Columns\n",
    "new_df.shape[1]"
   ]
  },
  {
   "cell_type": "markdown",
   "id": "24a4fc2e",
   "metadata": {},
   "source": [
    "# 8. Display the summary statistics for each DataFrame."
   ]
  },
  {
   "cell_type": "code",
   "execution_count": 57,
   "id": "2bcba0e7",
   "metadata": {},
   "outputs": [
    {
     "data": {
      "text/plain": [
       "<bound method NDFrame.describe of         emp_no            title   from_date     to_date\n",
       "0        10001  Senior Engineer  1986-06-26  9999-01-01\n",
       "1        10002            Staff  1996-08-03  9999-01-01\n",
       "2        10003  Senior Engineer  1995-12-03  9999-01-01\n",
       "3        10004         Engineer  1986-12-01  1995-12-01\n",
       "4        10004  Senior Engineer  1995-12-01  9999-01-01\n",
       "...        ...              ...         ...         ...\n",
       "443303  499997         Engineer  1987-08-30  1992-08-29\n",
       "443304  499997  Senior Engineer  1992-08-29  9999-01-01\n",
       "443305  499998     Senior Staff  1998-12-27  9999-01-01\n",
       "443306  499998            Staff  1993-12-27  1998-12-27\n",
       "443307  499999         Engineer  1997-11-30  9999-01-01\n",
       "\n",
       "[443308 rows x 4 columns]>"
      ]
     },
     "execution_count": 57,
     "metadata": {},
     "output_type": "execute_result"
    }
   ],
   "source": [
    "new_df.describe"
   ]
  },
  {
   "cell_type": "code",
   "execution_count": 29,
   "id": "da5f60eb",
   "metadata": {},
   "outputs": [
    {
     "data": {
      "text/plain": [
       "<bound method DataFrame.info of       emp_no  birth_date first_name last_name gender   hire_date\n",
       "0      10001  1953-09-02     Georgi   Facello      M  1986-06-26\n",
       "1      10002  1964-06-02    Bezalel    Simmel      F  1985-11-21\n",
       "2      10003  1959-12-03      Parto   Bamford      M  1986-08-28\n",
       "3      10004  1954-05-01  Chirstian   Koblick      M  1986-12-01\n",
       "4      10005  1955-01-21    Kyoichi  Maliniak      M  1989-09-12\n",
       "...      ...         ...        ...       ...    ...         ...\n",
       "2995   12996  1964-12-07     Khalil   Madeira      F  1992-07-14\n",
       "2996   12997  1956-09-22       Zine     Swist      F  1991-03-22\n",
       "2997   12998  1956-09-02     Nadjib   Rindone      M  1991-01-23\n",
       "2998   12999  1963-10-13      Taizo    Koyama      F  1991-11-06\n",
       "2999   13000  1955-01-31    Adhemar    Chiodo      F  1994-05-11\n",
       "\n",
       "[3000 rows x 6 columns]>"
      ]
     },
     "execution_count": 29,
     "metadata": {},
     "output_type": "execute_result"
    }
   ],
   "source": [
    "df.info"
   ]
  },
  {
   "cell_type": "markdown",
   "id": "4211871e",
   "metadata": {},
   "source": [
    "# 9. How many unique titles are in the titles DataFrame?"
   ]
  },
  {
   "cell_type": "code",
   "execution_count": 37,
   "id": "54868d0f",
   "metadata": {},
   "outputs": [
    {
     "data": {
      "text/plain": [
       "7"
      ]
     },
     "execution_count": 37,
     "metadata": {},
     "output_type": "execute_result"
    }
   ],
   "source": [
    "len(new_df.title.unique())"
   ]
  },
  {
   "cell_type": "markdown",
   "id": "0e734769",
   "metadata": {},
   "source": [
    "# 10. What is the oldest date in the to_date column?"
   ]
  },
  {
   "cell_type": "code",
   "execution_count": 51,
   "id": "694e30bc",
   "metadata": {},
   "outputs": [
    {
     "data": {
      "text/plain": [
       "0         9999-01-01\n",
       "251516    9999-01-01\n",
       "251529    9999-01-01\n",
       "251528    9999-01-01\n",
       "251526    9999-01-01\n",
       "             ...    \n",
       "277603    1985-04-17\n",
       "35527     1985-03-23\n",
       "346216    1985-03-20\n",
       "406358    1985-03-11\n",
       "16064     1985-03-01\n",
       "Name: to_date, Length: 443308, dtype: object"
      ]
     },
     "execution_count": 51,
     "metadata": {},
     "output_type": "execute_result"
    }
   ],
   "source": [
    "new_df.to_date.sort_values(ascending = False)"
   ]
  },
  {
   "cell_type": "code",
   "execution_count": 52,
   "id": "b6336d34",
   "metadata": {},
   "outputs": [
    {
     "data": {
      "text/plain": [
       "0    9999-01-01\n",
       "Name: to_date, dtype: object"
      ]
     },
     "execution_count": 52,
     "metadata": {},
     "output_type": "execute_result"
    }
   ],
   "source": [
    "new_df.to_date.sort_values(ascending = False).head(1)"
   ]
  },
  {
   "cell_type": "code",
   "execution_count": 66,
   "id": "f215226b",
   "metadata": {},
   "outputs": [
    {
     "data": {
      "text/plain": [
       "datetime.date(1985, 3, 1)"
      ]
     },
     "execution_count": 66,
     "metadata": {},
     "output_type": "execute_result"
    }
   ],
   "source": [
    "new_df[new_df.to_date != new_df.to_date.max()].to_date.min()"
   ]
  },
  {
   "cell_type": "markdown",
   "id": "e8da8151",
   "metadata": {},
   "source": [
    "# 11. What is the most recent date in the to_date column?"
   ]
  },
  {
   "cell_type": "code",
   "execution_count": 62,
   "id": "8510577e",
   "metadata": {},
   "outputs": [
    {
     "data": {
      "text/plain": [
       "datetime.date(2002, 8, 1)"
      ]
     },
     "execution_count": 62,
     "metadata": {},
     "output_type": "execute_result"
    }
   ],
   "source": [
    "new_df[new_df.to_date != new_df.to_date.max()].to_date.max()"
   ]
  }
 ],
 "metadata": {
  "kernelspec": {
   "display_name": "Python 3 (ipykernel)",
   "language": "python",
   "name": "python3"
  },
  "language_info": {
   "codemirror_mode": {
    "name": "ipython",
    "version": 3
   },
   "file_extension": ".py",
   "mimetype": "text/x-python",
   "name": "python",
   "nbconvert_exporter": "python",
   "pygments_lexer": "ipython3",
   "version": "3.8.8"
  }
 },
 "nbformat": 4,
 "nbformat_minor": 5
}
