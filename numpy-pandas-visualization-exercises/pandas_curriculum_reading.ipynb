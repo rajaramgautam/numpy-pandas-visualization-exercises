{
 "cells": [
  {
   "cell_type": "code",
   "execution_count": 1,
   "id": "f0c1e9e5",
   "metadata": {},
   "outputs": [],
   "source": [
    "import numpy as np\n",
    "import pandas as pd\n",
    "import matplotlib.pyplot as plt"
   ]
  },
  {
   "cell_type": "code",
   "execution_count": 2,
   "id": "c0dfe64d",
   "metadata": {},
   "outputs": [],
   "source": [
    "number_series = pd.Series([100, 43, 26, 17, 17])"
   ]
  },
  {
   "cell_type": "code",
   "execution_count": 3,
   "id": "122a67a5",
   "metadata": {},
   "outputs": [
    {
     "data": {
      "text/plain": [
       "pandas.core.series.Series"
      ]
     },
     "execution_count": 3,
     "metadata": {},
     "output_type": "execute_result"
    }
   ],
   "source": [
    "type(number_series)"
   ]
  },
  {
   "cell_type": "code",
   "execution_count": 4,
   "id": "aba6fb39",
   "metadata": {},
   "outputs": [
    {
     "data": {
      "text/plain": [
       "0    100\n",
       "1     43\n",
       "2     26\n",
       "3     17\n",
       "4     17\n",
       "dtype: int64"
      ]
     },
     "execution_count": 4,
     "metadata": {},
     "output_type": "execute_result"
    }
   ],
   "source": [
    "number_series"
   ]
  },
  {
   "cell_type": "code",
   "execution_count": 5,
   "id": "6b3877a9",
   "metadata": {},
   "outputs": [
    {
     "data": {
      "text/plain": [
       "0    3.0\n",
       "1    2.0\n",
       "2    4.5\n",
       "dtype: float64"
      ]
     },
     "execution_count": 5,
     "metadata": {},
     "output_type": "execute_result"
    }
   ],
   "source": [
    "pd.Series([3, 2, 4.5])"
   ]
  },
  {
   "cell_type": "code",
   "execution_count": 6,
   "id": "255c856c",
   "metadata": {},
   "outputs": [
    {
     "data": {
      "text/plain": [
       "0    a\n",
       "1    e\n",
       "2    h\n",
       "3    d\n",
       "4    b\n",
       "5    z\n",
       "dtype: object"
      ]
     },
     "execution_count": 6,
     "metadata": {},
     "output_type": "execute_result"
    }
   ],
   "source": [
    "letters_series = pd.Series(['a', 'e', 'h', 'd', 'b', 'z'])\n",
    "letters_series"
   ]
  },
  {
   "cell_type": "code",
   "execution_count": 7,
   "id": "2638ebe7",
   "metadata": {},
   "outputs": [
    {
     "data": {
      "text/plain": [
       "a    0.0\n",
       "b    1.5\n",
       "c    2.0\n",
       "d    3.5\n",
       "e    4.0\n",
       "f    5.5\n",
       "dtype: float64"
      ]
     },
     "execution_count": 7,
     "metadata": {},
     "output_type": "execute_result"
    }
   ],
   "source": [
    "labeled_series = pd.Series({'a' : 0, 'b' : 1.5, 'c' : 2, 'd': 3.5, 'e': 4, 'f': 5.5})\n",
    "labeled_series"
   ]
  },
  {
   "cell_type": "markdown",
   "id": "1bb478b5",
   "metadata": {},
   "source": [
    "# Vectorized Operations"
   ]
  },
  {
   "cell_type": "code",
   "execution_count": 8,
   "id": "5d2991a7",
   "metadata": {},
   "outputs": [
    {
     "data": {
      "text/plain": [
       "0    101\n",
       "1     44\n",
       "2     27\n",
       "3     18\n",
       "4     18\n",
       "dtype: int64"
      ]
     },
     "execution_count": 8,
     "metadata": {},
     "output_type": "execute_result"
    }
   ],
   "source": [
    "number_series + 1"
   ]
  },
  {
   "cell_type": "code",
   "execution_count": 9,
   "id": "bffadb25",
   "metadata": {},
   "outputs": [
    {
     "data": {
      "text/plain": [
       "0    100\n",
       "1     43\n",
       "2     26\n",
       "3     17\n",
       "4     17\n",
       "dtype: int64"
      ]
     },
     "execution_count": 9,
     "metadata": {},
     "output_type": "execute_result"
    }
   ],
   "source": [
    "number_series"
   ]
  },
  {
   "cell_type": "code",
   "execution_count": 10,
   "id": "52b0308d",
   "metadata": {},
   "outputs": [
    {
     "data": {
      "text/plain": [
       "0    50.0\n",
       "1    21.5\n",
       "2    13.0\n",
       "3     8.5\n",
       "4     8.5\n",
       "dtype: float64"
      ]
     },
     "execution_count": 10,
     "metadata": {},
     "output_type": "execute_result"
    }
   ],
   "source": [
    "number_series / 2\n"
   ]
  },
  {
   "cell_type": "code",
   "execution_count": null,
   "id": "7926c64e",
   "metadata": {},
   "outputs": [],
   "source": [
    "number_series"
   ]
  },
  {
   "cell_type": "markdown",
   "id": "718f7bb3",
   "metadata": {},
   "source": [
    "# Comparision operators also work:"
   ]
  },
  {
   "cell_type": "code",
   "execution_count": 11,
   "id": "43bd2b90",
   "metadata": {},
   "outputs": [
    {
     "data": {
      "text/plain": [
       "0    False\n",
       "1    False\n",
       "2    False\n",
       "3     True\n",
       "4     True\n",
       "dtype: bool"
      ]
     },
     "execution_count": 11,
     "metadata": {},
     "output_type": "execute_result"
    }
   ],
   "source": [
    "number_series == 17"
   ]
  },
  {
   "cell_type": "code",
   "execution_count": 14,
   "id": "d43c1875",
   "metadata": {},
   "outputs": [
    {
     "data": {
      "text/plain": [
       "0     True\n",
       "1     True\n",
       "2    False\n",
       "3    False\n",
       "4    False\n",
       "dtype: bool"
      ]
     },
     "execution_count": 14,
     "metadata": {},
     "output_type": "execute_result"
    }
   ],
   "source": [
    "number_series > 40"
   ]
  },
  {
   "cell_type": "markdown",
   "id": "eb638402",
   "metadata": {},
   "source": [
    "# .index"
   ]
  },
  {
   "cell_type": "code",
   "execution_count": 15,
   "id": "5022a8b2",
   "metadata": {},
   "outputs": [
    {
     "data": {
      "text/plain": [
       "RangeIndex(start=0, stop=5, step=1)"
      ]
     },
     "execution_count": 15,
     "metadata": {},
     "output_type": "execute_result"
    }
   ],
   "source": [
    "number_series.index"
   ]
  },
  {
   "cell_type": "markdown",
   "id": "d253e7d1",
   "metadata": {},
   "source": [
    "# .values"
   ]
  },
  {
   "cell_type": "code",
   "execution_count": 16,
   "id": "3f9fd6c6",
   "metadata": {},
   "outputs": [
    {
     "data": {
      "text/plain": [
       "array([100,  43,  26,  17,  17])"
      ]
     },
     "execution_count": 16,
     "metadata": {},
     "output_type": "execute_result"
    }
   ],
   "source": [
    "number_series.values"
   ]
  },
  {
   "cell_type": "markdown",
   "id": "a82384df",
   "metadata": {},
   "source": [
    "# .dtype"
   ]
  },
  {
   "cell_type": "code",
   "execution_count": 17,
   "id": "e80d06e2",
   "metadata": {},
   "outputs": [
    {
     "data": {
      "text/plain": [
       "dtype('int64')"
      ]
     },
     "execution_count": 17,
     "metadata": {},
     "output_type": "execute_result"
    }
   ],
   "source": [
    "number_series.dtype"
   ]
  },
  {
   "cell_type": "markdown",
   "id": "3932c513",
   "metadata": {},
   "source": [
    "# .name"
   ]
  },
  {
   "cell_type": "code",
   "execution_count": 19,
   "id": "c76df90d",
   "metadata": {},
   "outputs": [
    {
     "data": {
      "text/plain": [
       "0    100\n",
       "1     43\n",
       "2     26\n",
       "3     17\n",
       "4     17\n",
       "Name: Numbers, dtype: int64"
      ]
     },
     "execution_count": 19,
     "metadata": {},
     "output_type": "execute_result"
    }
   ],
   "source": [
    "number_series.name = 'Numbers'\n",
    "number_series"
   ]
  },
  {
   "cell_type": "markdown",
   "id": "c73e7692",
   "metadata": {},
   "source": [
    "# .size"
   ]
  },
  {
   "cell_type": "code",
   "execution_count": 20,
   "id": "5ed995db",
   "metadata": {},
   "outputs": [
    {
     "data": {
      "text/plain": [
       "5"
      ]
     },
     "execution_count": 20,
     "metadata": {},
     "output_type": "execute_result"
    }
   ],
   "source": [
    "number_series.size"
   ]
  },
  {
   "cell_type": "markdown",
   "id": "51830d95",
   "metadata": {},
   "source": [
    "# .shape"
   ]
  },
  {
   "cell_type": "code",
   "execution_count": 21,
   "id": "4b7da297",
   "metadata": {},
   "outputs": [
    {
     "data": {
      "text/plain": [
       "(5,)"
      ]
     },
     "execution_count": 21,
     "metadata": {},
     "output_type": "execute_result"
    }
   ],
   "source": [
    "number_series.shape"
   ]
  },
  {
   "cell_type": "markdown",
   "id": "5af9ca10",
   "metadata": {},
   "source": [
    "# Series Methods"
   ]
  },
  {
   "cell_type": "code",
   "execution_count": 22,
   "id": "9d94259e",
   "metadata": {},
   "outputs": [
    {
     "data": {
      "text/plain": [
       "0    100\n",
       "1     43\n",
       "2     26\n",
       "3     17\n",
       "4     17\n",
       "Name: Numbers, dtype: int64"
      ]
     },
     "execution_count": 22,
     "metadata": {},
     "output_type": "execute_result"
    }
   ],
   "source": [
    "number_series.head()"
   ]
  },
  {
   "cell_type": "code",
   "execution_count": 23,
   "id": "d94d7c6e",
   "metadata": {},
   "outputs": [
    {
     "data": {
      "text/plain": [
       "0    100\n",
       "1     43\n",
       "Name: Numbers, dtype: int64"
      ]
     },
     "execution_count": 23,
     "metadata": {},
     "output_type": "execute_result"
    }
   ],
   "source": [
    "number_series.head(2)"
   ]
  },
  {
   "cell_type": "code",
   "execution_count": 24,
   "id": "4d4bd7e0",
   "metadata": {},
   "outputs": [
    {
     "data": {
      "text/plain": [
       "3    17\n",
       "4    17\n",
       "Name: Numbers, dtype: int64"
      ]
     },
     "execution_count": 24,
     "metadata": {},
     "output_type": "execute_result"
    }
   ],
   "source": [
    "number_series.tail(2)"
   ]
  },
  {
   "cell_type": "code",
   "execution_count": 25,
   "id": "da23cff2",
   "metadata": {},
   "outputs": [
    {
     "data": {
      "text/plain": [
       "1    43\n",
       "Name: Numbers, dtype: int64"
      ]
     },
     "execution_count": 25,
     "metadata": {},
     "output_type": "execute_result"
    }
   ],
   "source": [
    "number_series.sample()"
   ]
  },
  {
   "cell_type": "code",
   "execution_count": 27,
   "id": "f5bec182",
   "metadata": {},
   "outputs": [
    {
     "data": {
      "text/plain": [
       "0    100\n",
       "1     43\n",
       "2     26\n",
       "3     17\n",
       "4     17\n",
       "Name: Numbers, dtype: object"
      ]
     },
     "execution_count": 27,
     "metadata": {},
     "output_type": "execute_result"
    }
   ],
   "source": [
    "number_series.astype('str')"
   ]
  },
  {
   "cell_type": "code",
   "execution_count": 28,
   "id": "8abf9c29",
   "metadata": {},
   "outputs": [],
   "source": [
    "num_strings = pd.Series([3, 4, 5, 6])"
   ]
  },
  {
   "cell_type": "code",
   "execution_count": 29,
   "id": "1fd6d9ca",
   "metadata": {},
   "outputs": [
    {
     "data": {
      "text/plain": [
       "0    3\n",
       "1    4\n",
       "2    5\n",
       "3    6\n",
       "dtype: object"
      ]
     },
     "execution_count": 29,
     "metadata": {},
     "output_type": "execute_result"
    }
   ],
   "source": [
    "num_strings.astype('str')"
   ]
  },
  {
   "cell_type": "code",
   "execution_count": 30,
   "id": "4f175e48",
   "metadata": {},
   "outputs": [],
   "source": [
    "floats = pd.Series([3, 4, 5, 6, 7]).astype('float')"
   ]
  },
  {
   "cell_type": "code",
   "execution_count": 31,
   "id": "78f69fc5",
   "metadata": {},
   "outputs": [
    {
     "data": {
      "text/plain": [
       "0    3.0\n",
       "1    4.0\n",
       "2    5.0\n",
       "3    6.0\n",
       "4    7.0\n",
       "dtype: float64"
      ]
     },
     "execution_count": 31,
     "metadata": {},
     "output_type": "execute_result"
    }
   ],
   "source": [
    "floats"
   ]
  },
  {
   "cell_type": "code",
   "execution_count": 35,
   "id": "e8b60478",
   "metadata": {},
   "outputs": [],
   "source": [
    "floats = floats.astype('int')"
   ]
  },
  {
   "cell_type": "code",
   "execution_count": 36,
   "id": "5528b68b",
   "metadata": {},
   "outputs": [
    {
     "data": {
      "text/plain": [
       "0    3\n",
       "1    4\n",
       "2    5\n",
       "3    6\n",
       "4    7\n",
       "dtype: int64"
      ]
     },
     "execution_count": 36,
     "metadata": {},
     "output_type": "execute_result"
    }
   ],
   "source": [
    "floats"
   ]
  },
  {
   "cell_type": "code",
   "execution_count": 37,
   "id": "9a34f3a9",
   "metadata": {},
   "outputs": [
    {
     "data": {
      "text/plain": [
       "a    4\n",
       "b    2\n",
       "c    1\n",
       "d    1\n",
       "dtype: int64"
      ]
     },
     "execution_count": 37,
     "metadata": {},
     "output_type": "execute_result"
    }
   ],
   "source": [
    "pd.Series(['a', 'b', 'a', 'c', 'b', 'a', 'd', 'a']).value_counts()"
   ]
  },
  {
   "cell_type": "code",
   "execution_count": 38,
   "id": "c1482329",
   "metadata": {},
   "outputs": [
    {
     "data": {
      "text/plain": [
       "0    100\n",
       "1     43\n",
       "2     26\n",
       "3     17\n",
       "4     17\n",
       "Name: Numbers, dtype: int64"
      ]
     },
     "execution_count": 38,
     "metadata": {},
     "output_type": "execute_result"
    }
   ],
   "source": [
    "number_series"
   ]
  },
  {
   "cell_type": "code",
   "execution_count": 39,
   "id": "e66281ec",
   "metadata": {},
   "outputs": [
    {
     "data": {
      "text/plain": [
       "count      5.000000\n",
       "mean      40.600000\n",
       "std       34.861153\n",
       "min       17.000000\n",
       "25%       17.000000\n",
       "50%       26.000000\n",
       "75%       43.000000\n",
       "max      100.000000\n",
       "Name: Numbers, dtype: float64"
      ]
     },
     "execution_count": 39,
     "metadata": {},
     "output_type": "execute_result"
    }
   ],
   "source": [
    "number_series.describe()"
   ]
  },
  {
   "cell_type": "code",
   "execution_count": 41,
   "id": "14dc228a",
   "metadata": {},
   "outputs": [
    {
     "data": {
      "text/plain": [
       "{'count': 5, 'sum': 203, 'mean': 40.6}"
      ]
     },
     "execution_count": 41,
     "metadata": {},
     "output_type": "execute_result"
    }
   ],
   "source": [
    "{\n",
    "    'count': number_series.count(),\n",
    "    'sum': number_series.sum(),\n",
    "    'mean': number_series.mean()\n",
    "}"
   ]
  },
  {
   "cell_type": "code",
   "execution_count": 48,
   "id": "5191ed71",
   "metadata": {},
   "outputs": [
    {
     "data": {
      "text/plain": [
       "3    17\n",
       "4    17\n",
       "Name: Numbers, dtype: int64"
      ]
     },
     "execution_count": 48,
     "metadata": {},
     "output_type": "execute_result"
    }
   ],
   "source": [
    "number_series.nsmallest(n=2, keep='first')"
   ]
  },
  {
   "cell_type": "code",
   "execution_count": 50,
   "id": "c22259b3",
   "metadata": {},
   "outputs": [
    {
     "data": {
      "text/plain": [
       "3    17\n",
       "4    17\n",
       "Name: Numbers, dtype: int64"
      ]
     },
     "execution_count": 50,
     "metadata": {},
     "output_type": "execute_result"
    }
   ],
   "source": [
    "number_series.nsmallest(n=1, keep='all')"
   ]
  },
  {
   "cell_type": "code",
   "execution_count": 51,
   "id": "0418cccf",
   "metadata": {},
   "outputs": [
    {
     "data": {
      "text/plain": [
       "0    a\n",
       "1    e\n",
       "2    h\n",
       "3    d\n",
       "4    b\n",
       "5    z\n",
       "dtype: object"
      ]
     },
     "execution_count": 51,
     "metadata": {},
     "output_type": "execute_result"
    }
   ],
   "source": [
    "letters_series"
   ]
  },
  {
   "cell_type": "code",
   "execution_count": 56,
   "id": "a331bc3b",
   "metadata": {},
   "outputs": [
    {
     "data": {
      "text/plain": [
       "0    a\n",
       "4    b\n",
       "3    d\n",
       "1    e\n",
       "2    h\n",
       "5    z\n",
       "dtype: object"
      ]
     },
     "execution_count": 56,
     "metadata": {},
     "output_type": "execute_result"
    }
   ],
   "source": [
    "letters_series.sort_values()"
   ]
  },
  {
   "cell_type": "code",
   "execution_count": 59,
   "id": "704e53ef",
   "metadata": {},
   "outputs": [
    {
     "data": {
      "text/plain": [
       "5    z\n",
       "2    h\n",
       "1    e\n",
       "3    d\n",
       "4    b\n",
       "0    a\n",
       "dtype: object"
      ]
     },
     "execution_count": 59,
     "metadata": {},
     "output_type": "execute_result"
    }
   ],
   "source": [
    "letters_series.sort_values(ascending = False)"
   ]
  },
  {
   "cell_type": "code",
   "execution_count": 58,
   "id": "7b9a9c86",
   "metadata": {},
   "outputs": [
    {
     "data": {
      "text/plain": [
       "0    a\n",
       "1    b\n",
       "2    d\n",
       "3    e\n",
       "4    h\n",
       "5    z\n",
       "dtype: object"
      ]
     },
     "execution_count": 58,
     "metadata": {},
     "output_type": "execute_result"
    }
   ],
   "source": [
    "letters_series.sort_values(ignore_index = True)"
   ]
  },
  {
   "cell_type": "code",
   "execution_count": 60,
   "id": "c8009d93",
   "metadata": {},
   "outputs": [
    {
     "data": {
      "text/plain": [
       "0    a\n",
       "1    e\n",
       "2    h\n",
       "3    d\n",
       "4    b\n",
       "5    z\n",
       "dtype: object"
      ]
     },
     "execution_count": 60,
     "metadata": {},
     "output_type": "execute_result"
    }
   ],
   "source": [
    "letters_series"
   ]
  },
  {
   "cell_type": "code",
   "execution_count": 61,
   "id": "bcb73b0b",
   "metadata": {},
   "outputs": [
    {
     "data": {
      "text/plain": [
       "a    0.0\n",
       "b    1.5\n",
       "c    2.0\n",
       "d    3.5\n",
       "e    4.0\n",
       "f    5.5\n",
       "dtype: float64"
      ]
     },
     "execution_count": 61,
     "metadata": {},
     "output_type": "execute_result"
    }
   ],
   "source": [
    "labeled_series"
   ]
  },
  {
   "cell_type": "code",
   "execution_count": 64,
   "id": "1766b3fc",
   "metadata": {},
   "outputs": [
    {
     "data": {
      "text/plain": [
       "f    5.5\n",
       "e    4.0\n",
       "d    3.5\n",
       "c    2.0\n",
       "b    1.5\n",
       "a    0.0\n",
       "dtype: float64"
      ]
     },
     "execution_count": 64,
     "metadata": {},
     "output_type": "execute_result"
    }
   ],
   "source": [
    "labeled_series.sort_index(ascending = False)"
   ]
  },
  {
   "cell_type": "code",
   "execution_count": 66,
   "id": "138376d6",
   "metadata": {},
   "outputs": [
    {
     "data": {
      "text/plain": [
       "a    0.0\n",
       "b    1.5\n",
       "c    2.0\n",
       "d    3.5\n",
       "e    4.0\n",
       "f    5.5\n",
       "dtype: float64"
      ]
     },
     "execution_count": 66,
     "metadata": {},
     "output_type": "execute_result"
    }
   ],
   "source": [
    "labeled_series.sort_index(ascending = True)"
   ]
  },
  {
   "cell_type": "code",
   "execution_count": 67,
   "id": "c208a121",
   "metadata": {},
   "outputs": [
    {
     "data": {
      "text/plain": [
       "0    a\n",
       "1    e\n",
       "2    h\n",
       "3    d\n",
       "4    b\n",
       "5    z\n",
       "dtype: object"
      ]
     },
     "execution_count": 67,
     "metadata": {},
     "output_type": "execute_result"
    }
   ],
   "source": [
    "letters_series"
   ]
  },
  {
   "cell_type": "code",
   "execution_count": 69,
   "id": "2650a978",
   "metadata": {},
   "outputs": [
    {
     "data": {
      "text/plain": [
       "5    z\n",
       "4    b\n",
       "3    d\n",
       "2    h\n",
       "1    e\n",
       "0    a\n",
       "dtype: object"
      ]
     },
     "execution_count": 69,
     "metadata": {},
     "output_type": "execute_result"
    }
   ],
   "source": [
    "letters_series.sort_index(ascending = False)"
   ]
  },
  {
   "cell_type": "code",
   "execution_count": 70,
   "id": "5db3ad29",
   "metadata": {},
   "outputs": [],
   "source": [
    "fruits = pd.Series(    [\"kiwi\", \"mango\", \"strawberry\", \"pineapple\", \"gala apple\", \"honeycrisp apple\", \"tomato\", \"watermelon\", \"honeydew\", \"kiwi\", \"kiwi\", \"kiwi\", \"mango\", \"blueberry\", \"blackberry\", \"gooseberry\", \"papaya\"])"
   ]
  },
  {
   "cell_type": "code",
   "execution_count": 71,
   "id": "cd3c114c",
   "metadata": {},
   "outputs": [
    {
     "data": {
      "text/plain": [
       "0                 kiwi\n",
       "1                mango\n",
       "2           strawberry\n",
       "3            pineapple\n",
       "4           gala apple\n",
       "5     honeycrisp apple\n",
       "6               tomato\n",
       "7           watermelon\n",
       "8             honeydew\n",
       "9                 kiwi\n",
       "10                kiwi\n",
       "11                kiwi\n",
       "12               mango\n",
       "13           blueberry\n",
       "14          blackberry\n",
       "15          gooseberry\n",
       "16              papaya\n",
       "dtype: object"
      ]
     },
     "execution_count": 71,
     "metadata": {},
     "output_type": "execute_result"
    }
   ],
   "source": [
    "fruits"
   ]
  },
  {
   "cell_type": "code",
   "execution_count": 72,
   "id": "9d93233a",
   "metadata": {},
   "outputs": [
    {
     "data": {
      "text/plain": [
       "17"
      ]
     },
     "execution_count": 72,
     "metadata": {},
     "output_type": "execute_result"
    }
   ],
   "source": [
    "fruits.size"
   ]
  },
  {
   "cell_type": "code",
   "execution_count": 73,
   "id": "dec32c01",
   "metadata": {},
   "outputs": [
    {
     "data": {
      "text/plain": [
       "RangeIndex(start=0, stop=17, step=1)"
      ]
     },
     "execution_count": 73,
     "metadata": {},
     "output_type": "execute_result"
    }
   ],
   "source": [
    "fruits.index"
   ]
  },
  {
   "cell_type": "code",
   "execution_count": 74,
   "id": "5975c2f9",
   "metadata": {},
   "outputs": [
    {
     "data": {
      "text/plain": [
       "array(['kiwi', 'mango', 'strawberry', 'pineapple', 'gala apple',\n",
       "       'honeycrisp apple', 'tomato', 'watermelon', 'honeydew', 'kiwi',\n",
       "       'kiwi', 'kiwi', 'mango', 'blueberry', 'blackberry', 'gooseberry',\n",
       "       'papaya'], dtype=object)"
      ]
     },
     "execution_count": 74,
     "metadata": {},
     "output_type": "execute_result"
    }
   ],
   "source": [
    "fruits.values"
   ]
  },
  {
   "cell_type": "code",
   "execution_count": 77,
   "id": "3ce528ad",
   "metadata": {},
   "outputs": [
    {
     "data": {
      "text/plain": [
       "dtype('O')"
      ]
     },
     "execution_count": 77,
     "metadata": {},
     "output_type": "execute_result"
    }
   ],
   "source": [
    "fruits.values.dtype"
   ]
  },
  {
   "cell_type": "code",
   "execution_count": 80,
   "id": "ac9b2289",
   "metadata": {},
   "outputs": [
    {
     "data": {
      "text/plain": [
       "dtype('O')"
      ]
     },
     "execution_count": 80,
     "metadata": {},
     "output_type": "execute_result"
    }
   ],
   "source": [
    "fruits.dtype"
   ]
  },
  {
   "cell_type": "code",
   "execution_count": 81,
   "id": "df9bc4ea",
   "metadata": {},
   "outputs": [
    {
     "data": {
      "text/plain": [
       "0          kiwi\n",
       "1         mango\n",
       "2    strawberry\n",
       "3     pineapple\n",
       "4    gala apple\n",
       "dtype: object"
      ]
     },
     "execution_count": 81,
     "metadata": {},
     "output_type": "execute_result"
    }
   ],
   "source": [
    "fruits.head()"
   ]
  },
  {
   "cell_type": "code",
   "execution_count": 82,
   "id": "d5271720",
   "metadata": {},
   "outputs": [
    {
     "data": {
      "text/plain": [
       "count       17\n",
       "unique      13\n",
       "top       kiwi\n",
       "freq         4\n",
       "dtype: object"
      ]
     },
     "execution_count": 82,
     "metadata": {},
     "output_type": "execute_result"
    }
   ],
   "source": [
    "fruits.describe()"
   ]
  },
  {
   "cell_type": "code",
   "execution_count": 90,
   "id": "6c070566",
   "metadata": {},
   "outputs": [
    {
     "data": {
      "text/plain": [
       "13"
      ]
     },
     "execution_count": 90,
     "metadata": {},
     "output_type": "execute_result"
    }
   ],
   "source": [
    "fruits.unique()"
   ]
  },
  {
   "cell_type": "code",
   "execution_count": 85,
   "id": "bbf7dadf",
   "metadata": {},
   "outputs": [
    {
     "data": {
      "text/plain": [
       "kiwi                4\n",
       "mango               2\n",
       "strawberry          1\n",
       "pineapple           1\n",
       "gala apple          1\n",
       "honeycrisp apple    1\n",
       "tomato              1\n",
       "watermelon          1\n",
       "honeydew            1\n",
       "blueberry           1\n",
       "blackberry          1\n",
       "gooseberry          1\n",
       "papaya              1\n",
       "dtype: int64"
      ]
     },
     "execution_count": 85,
     "metadata": {},
     "output_type": "execute_result"
    }
   ],
   "source": [
    "fruits.value_counts()"
   ]
  },
  {
   "cell_type": "code",
   "execution_count": 87,
   "id": "b31a8a8d",
   "metadata": {},
   "outputs": [
    {
     "data": {
      "text/plain": [
       "kiwi                4\n",
       "mango               2\n",
       "strawberry          1\n",
       "pineapple           1\n",
       "gala apple          1\n",
       "honeycrisp apple    1\n",
       "tomato              1\n",
       "watermelon          1\n",
       "honeydew            1\n",
       "blueberry           1\n",
       "blackberry          1\n",
       "gooseberry          1\n",
       "papaya              1\n",
       "dtype: int64"
      ]
     },
     "execution_count": 87,
     "metadata": {},
     "output_type": "execute_result"
    }
   ],
   "source": [
    " pd.Series(    [\"kiwi\", \"mango\", \"strawberry\", \"pineapple\", \"gala apple\", \"honeycrisp apple\", \"tomato\", \"watermelon\", \"honeydew\", \"kiwi\", \"kiwi\", \"kiwi\", \"mango\", \"blueberry\", \"blackberry\", \"gooseberry\", \"papaya\"]).value_counts()"
   ]
  },
  {
   "cell_type": "code",
   "execution_count": 102,
   "id": "34417311",
   "metadata": {},
   "outputs": [
    {
     "data": {
      "text/plain": [
       "kiwi    4\n",
       "dtype: int64"
      ]
     },
     "execution_count": 102,
     "metadata": {},
     "output_type": "execute_result"
    }
   ],
   "source": [
    "fruits.value_counts().nlargest(n=1, keep = 'all')"
   ]
  },
  {
   "cell_type": "code",
   "execution_count": 103,
   "id": "0867f74d",
   "metadata": {},
   "outputs": [
    {
     "data": {
      "text/plain": [
       "strawberry          1\n",
       "pineapple           1\n",
       "gala apple          1\n",
       "honeycrisp apple    1\n",
       "tomato              1\n",
       "watermelon          1\n",
       "honeydew            1\n",
       "blueberry           1\n",
       "blackberry          1\n",
       "gooseberry          1\n",
       "papaya              1\n",
       "dtype: int64"
      ]
     },
     "execution_count": 103,
     "metadata": {},
     "output_type": "execute_result"
    }
   ],
   "source": [
    "fruits.value_counts().nsmallest(n=1, keep = 'all')"
   ]
  },
  {
   "cell_type": "markdown",
   "id": "21f90abb",
   "metadata": {},
   "source": [
    "# Indexing and Subsetting"
   ]
  },
  {
   "cell_type": "code",
   "execution_count": 104,
   "id": "d02295ef",
   "metadata": {},
   "outputs": [
    {
     "data": {
      "text/plain": [
       "0    100\n",
       "1     43\n",
       "2     26\n",
       "3     17\n",
       "4     17\n",
       "Name: Numbers, dtype: int64"
      ]
     },
     "execution_count": 104,
     "metadata": {},
     "output_type": "execute_result"
    }
   ],
   "source": [
    "number_seriesx "
   ]
  },
  {
   "cell_type": "code",
   "execution_count": 105,
   "id": "c9e9fe5c",
   "metadata": {},
   "outputs": [
    {
     "data": {
      "text/plain": [
       "0     True\n",
       "1     True\n",
       "2    False\n",
       "3    False\n",
       "4    False\n",
       "Name: Numbers, dtype: bool"
      ]
     },
     "execution_count": 105,
     "metadata": {},
     "output_type": "execute_result"
    }
   ],
   "source": [
    "bools = number_series > 40\n",
    "bools"
   ]
  },
  {
   "cell_type": "code",
   "execution_count": 107,
   "id": "3f3a2d94",
   "metadata": {},
   "outputs": [
    {
     "data": {
      "text/plain": [
       "0    100\n",
       "1     43\n",
       "Name: Numbers, dtype: int64"
      ]
     },
     "execution_count": 107,
     "metadata": {},
     "output_type": "execute_result"
    }
   ],
   "source": [
    "number_series[bools]"
   ]
  },
  {
   "cell_type": "code",
   "execution_count": 109,
   "id": "88a4f74c",
   "metadata": {},
   "outputs": [
    {
     "data": {
      "text/plain": [
       "0    100\n",
       "1     43\n",
       "Name: Numbers, dtype: int64"
      ]
     },
     "execution_count": 109,
     "metadata": {},
     "output_type": "execute_result"
    }
   ],
   "source": [
    "number_series[number_series > 40]"
   ]
  },
  {
   "cell_type": "code",
   "execution_count": 111,
   "id": "6fc44785",
   "metadata": {},
   "outputs": [],
   "source": [
    "x = pd.Series([1, 2, 3, 4, 5, 6, 7, 8, 9, 10])"
   ]
  },
  {
   "cell_type": "code",
   "execution_count": 112,
   "id": "fd169ee4",
   "metadata": {},
   "outputs": [
    {
     "data": {
      "text/plain": [
       "0     1\n",
       "1     2\n",
       "2     3\n",
       "3     4\n",
       "4     5\n",
       "5     6\n",
       "6     7\n",
       "7     8\n",
       "8     9\n",
       "9    10\n",
       "dtype: int64"
      ]
     },
     "execution_count": 112,
     "metadata": {},
     "output_type": "execute_result"
    }
   ],
   "source": [
    "x"
   ]
  },
  {
   "cell_type": "code",
   "execution_count": 115,
   "id": "cb6ec8ab",
   "metadata": {},
   "outputs": [
    {
     "data": {
      "text/plain": [
       "1     2\n",
       "3     4\n",
       "5     6\n",
       "7     8\n",
       "8     9\n",
       "9    10\n",
       "dtype: int64"
      ]
     },
     "execution_count": 115,
     "metadata": {},
     "output_type": "execute_result"
    }
   ],
   "source": [
    "x[(x%2 == 0 )| (x >7)]"
   ]
  },
  {
   "cell_type": "code",
   "execution_count": 123,
   "id": "5ae1929f",
   "metadata": {},
   "outputs": [
    {
     "data": {
      "text/plain": [
       "7     8\n",
       "9    10\n",
       "dtype: int64"
      ]
     },
     "execution_count": 123,
     "metadata": {},
     "output_type": "execute_result"
    }
   ],
   "source": [
    "is_even = x%2 == 0\n",
    "greater_than_seven = x>7\n",
    "x[is_even & greater_than_seven]"
   ]
  },
  {
   "cell_type": "markdown",
   "id": "02652eb5",
   "metadata": {},
   "source": [
    "# TBA difference between & and AND"
   ]
  },
  {
   "cell_type": "code",
   "execution_count": 124,
   "id": "d14dbe58",
   "metadata": {},
   "outputs": [],
   "source": [
    "string_series = pd.Series(['Hello', 'CodeUp', 'Students'])"
   ]
  },
  {
   "cell_type": "code",
   "execution_count": 125,
   "id": "acad505c",
   "metadata": {},
   "outputs": [
    {
     "data": {
      "text/plain": [
       "0       Hello\n",
       "1      CodeUp\n",
       "2    Students\n",
       "dtype: object"
      ]
     },
     "execution_count": 125,
     "metadata": {},
     "output_type": "execute_result"
    }
   ],
   "source": [
    "string_series"
   ]
  },
  {
   "cell_type": "code",
   "execution_count": 126,
   "id": "56ed72bd",
   "metadata": {},
   "outputs": [
    {
     "data": {
      "text/plain": [
       "0       hello\n",
       "1      codeup\n",
       "2    students\n",
       "dtype: object"
      ]
     },
     "execution_count": 126,
     "metadata": {},
     "output_type": "execute_result"
    }
   ],
   "source": [
    "string_series.str.lower()"
   ]
  },
  {
   "cell_type": "code",
   "execution_count": 127,
   "id": "01c94ad7",
   "metadata": {},
   "outputs": [
    {
     "data": {
      "text/plain": [
       "0       HELLO\n",
       "1      CODEUP\n",
       "2    STUDENTS\n",
       "dtype: object"
      ]
     },
     "execution_count": 127,
     "metadata": {},
     "output_type": "execute_result"
    }
   ],
   "source": [
    "string_series.str.upper()"
   ]
  },
  {
   "cell_type": "code",
   "execution_count": 128,
   "id": "7289037b",
   "metadata": {},
   "outputs": [
    {
     "data": {
      "text/plain": [
       "0       H-llo\n",
       "1      Cod-Up\n",
       "2    Stud-nts\n",
       "dtype: object"
      ]
     },
     "execution_count": 128,
     "metadata": {},
     "output_type": "execute_result"
    }
   ],
   "source": [
    "string_series.str.replace('e', '-')"
   ]
  },
  {
   "cell_type": "code",
   "execution_count": 131,
   "id": "2217bc2f",
   "metadata": {},
   "outputs": [
    {
     "data": {
      "text/plain": [
       "0       Hello\n",
       "1      CodeUp\n",
       "2    Students\n",
       "dtype: object"
      ]
     },
     "execution_count": 131,
     "metadata": {},
     "output_type": "execute_result"
    }
   ],
   "source": [
    "string_series"
   ]
  },
  {
   "cell_type": "code",
   "execution_count": 132,
   "id": "aaa0ee2e",
   "metadata": {},
   "outputs": [
    {
     "data": {
      "text/plain": [
       "0     True\n",
       "1    False\n",
       "2    False\n",
       "dtype: bool"
      ]
     },
     "execution_count": 132,
     "metadata": {},
     "output_type": "execute_result"
    }
   ],
   "source": [
    "string_series.str.lower().str.startswith('h')"
   ]
  },
  {
   "cell_type": "code",
   "execution_count": 130,
   "id": "2e271234",
   "metadata": {},
   "outputs": [
    {
     "data": {
      "text/plain": [
       "0    Hello\n",
       "dtype: object"
      ]
     },
     "execution_count": 130,
     "metadata": {},
     "output_type": "execute_result"
    }
   ],
   "source": [
    "string_series[string_series.str.lower().str.startswith('h')]"
   ]
  },
  {
   "cell_type": "code",
   "execution_count": 134,
   "id": "ebfe866c",
   "metadata": {},
   "outputs": [
    {
     "data": {
      "text/plain": [
       "0    100\n",
       "1     43\n",
       "2     26\n",
       "3     17\n",
       "4     17\n",
       "Name: Numbers, dtype: int64"
      ]
     },
     "execution_count": 134,
     "metadata": {},
     "output_type": "execute_result"
    }
   ],
   "source": [
    "number_series"
   ]
  },
  {
   "cell_type": "code",
   "execution_count": 140,
   "id": "3938fdb8",
   "metadata": {},
   "outputs": [
    {
     "data": {
      "text/plain": [
       "True"
      ]
     },
     "execution_count": 140,
     "metadata": {},
     "output_type": "execute_result"
    }
   ],
   "source": [
    "(number_series > 0).all()"
   ]
  },
  {
   "cell_type": "code",
   "execution_count": 141,
   "id": "be331b8a",
   "metadata": {},
   "outputs": [
    {
     "data": {
      "text/plain": [
       "False"
      ]
     },
     "execution_count": 141,
     "metadata": {},
     "output_type": "execute_result"
    }
   ],
   "source": [
    "(number_series < 0).all()"
   ]
  },
  {
   "cell_type": "code",
   "execution_count": 142,
   "id": "0abc09af",
   "metadata": {},
   "outputs": [
    {
     "data": {
      "text/plain": [
       "['a', 'e', 'i', 'o', 'u']"
      ]
     },
     "execution_count": 142,
     "metadata": {},
     "output_type": "execute_result"
    }
   ],
   "source": [
    "vowels = list('aeiou')\n",
    "vowels"
   ]
  },
  {
   "cell_type": "code",
   "execution_count": 144,
   "id": "7a4cb19f",
   "metadata": {},
   "outputs": [
    {
     "data": {
      "text/plain": [
       "['a', 'b', 'c', 'd', 'e', 'f', 'g', 'h', 'i', 'j', 'k']"
      ]
     },
     "execution_count": 144,
     "metadata": {},
     "output_type": "execute_result"
    }
   ],
   "source": [
    "letters = list('abcdefghijk')\n",
    "letters"
   ]
  },
  {
   "cell_type": "code",
   "execution_count": 146,
   "id": "7bdf0718",
   "metadata": {},
   "outputs": [
    {
     "data": {
      "text/plain": [
       "0     a\n",
       "1     b\n",
       "2     c\n",
       "3     d\n",
       "4     e\n",
       "5     f\n",
       "6     g\n",
       "7     h\n",
       "8     i\n",
       "9     j\n",
       "10    k\n",
       "dtype: object"
      ]
     },
     "execution_count": 146,
     "metadata": {},
     "output_type": "execute_result"
    }
   ],
   "source": [
    "letter_series = pd.Series(letters)\n",
    "letter_series"
   ]
  },
  {
   "cell_type": "code",
   "execution_count": 147,
   "id": "d7135da6",
   "metadata": {},
   "outputs": [
    {
     "data": {
      "text/plain": [
       "0      True\n",
       "1     False\n",
       "2     False\n",
       "3     False\n",
       "4      True\n",
       "5     False\n",
       "6     False\n",
       "7     False\n",
       "8      True\n",
       "9     False\n",
       "10    False\n",
       "dtype: bool"
      ]
     },
     "execution_count": 147,
     "metadata": {},
     "output_type": "execute_result"
    }
   ],
   "source": [
    "letter_series.isin(vowels)"
   ]
  },
  {
   "cell_type": "code",
   "execution_count": 148,
   "id": "e6390aa7",
   "metadata": {},
   "outputs": [
    {
     "data": {
      "text/plain": [
       "0    a\n",
       "4    e\n",
       "8    i\n",
       "dtype: object"
      ]
     },
     "execution_count": 148,
     "metadata": {},
     "output_type": "execute_result"
    }
   ],
   "source": [
    "letter_series[letter_series.isin(vowels)]"
   ]
  },
  {
   "cell_type": "code",
   "execution_count": 151,
   "id": "69e3ead4",
   "metadata": {},
   "outputs": [
    {
     "data": {
      "text/plain": [
       "0    even\n",
       "1     odd\n",
       "2    even\n",
       "3     odd\n",
       "4     odd\n",
       "Name: Numbers, dtype: object"
      ]
     },
     "execution_count": 151,
     "metadata": {},
     "output_type": "execute_result"
    }
   ],
   "source": [
    "def even_or_odd(n):\n",
    "    if n%2 == 0:\n",
    "        return 'even'\n",
    "    else:\n",
    "        return 'odd'\n",
    "number_series.apply(even_or_odd)"
   ]
  },
  {
   "cell_type": "code",
   "execution_count": 155,
   "id": "38c2138f",
   "metadata": {},
   "outputs": [
    {
     "data": {
      "text/plain": [
       "0    even\n",
       "1     odd\n",
       "2    even\n",
       "3     odd\n",
       "4     odd\n",
       "Name: Numbers, dtype: object"
      ]
     },
     "execution_count": 155,
     "metadata": {},
     "output_type": "execute_result"
    }
   ],
   "source": [
    "number_series.apply(lambda n:'even' if n%2 == 0 else 'odd' )"
   ]
  },
  {
   "cell_type": "code",
   "execution_count": 156,
   "id": "f0e0077c",
   "metadata": {},
   "outputs": [
    {
     "data": {
      "text/plain": [
       "0                 kiwi\n",
       "1                mango\n",
       "2           strawberry\n",
       "3            pineapple\n",
       "4           gala apple\n",
       "5     honeycrisp apple\n",
       "6               tomato\n",
       "7           watermelon\n",
       "8             honeydew\n",
       "9                 kiwi\n",
       "10                kiwi\n",
       "11                kiwi\n",
       "12               mango\n",
       "13           blueberry\n",
       "14          blackberry\n",
       "15          gooseberry\n",
       "16              papaya\n",
       "dtype: object"
      ]
     },
     "execution_count": 156,
     "metadata": {},
     "output_type": "execute_result"
    }
   ],
   "source": [
    "fruits"
   ]
  },
  {
   "cell_type": "code",
   "execution_count": 157,
   "id": "cd570471",
   "metadata": {},
   "outputs": [
    {
     "data": {
      "text/plain": [
       "0                 Kiwi\n",
       "1                Mango\n",
       "2           Strawberry\n",
       "3            Pineapple\n",
       "4           Gala apple\n",
       "5     Honeycrisp apple\n",
       "6               Tomato\n",
       "7           Watermelon\n",
       "8             Honeydew\n",
       "9                 Kiwi\n",
       "10                Kiwi\n",
       "11                Kiwi\n",
       "12               Mango\n",
       "13           Blueberry\n",
       "14          Blackberry\n",
       "15          Gooseberry\n",
       "16              Papaya\n",
       "dtype: object"
      ]
     },
     "execution_count": 157,
     "metadata": {},
     "output_type": "execute_result"
    }
   ],
   "source": [
    "fruits.str.capitalize()"
   ]
  },
  {
   "cell_type": "code",
   "execution_count": 161,
   "id": "be0a4c5f",
   "metadata": {},
   "outputs": [
    {
     "data": {
      "text/plain": [
       "0     0\n",
       "1     1\n",
       "2     1\n",
       "3     1\n",
       "4     3\n",
       "5     1\n",
       "6     1\n",
       "7     1\n",
       "8     0\n",
       "9     0\n",
       "10    0\n",
       "11    0\n",
       "12    1\n",
       "13    0\n",
       "14    1\n",
       "15    0\n",
       "16    3\n",
       "dtype: int64"
      ]
     },
     "execution_count": 161,
     "metadata": {},
     "output_type": "execute_result"
    }
   ],
   "source": [
    "fruits.str.count('a')"
   ]
  },
  {
   "cell_type": "code",
   "execution_count": 177,
   "id": "b3dcb507",
   "metadata": {},
   "outputs": [
    {
     "data": {
      "text/plain": [
       "['a', 'e', 'i', 'o', 'u']"
      ]
     },
     "execution_count": 177,
     "metadata": {},
     "output_type": "execute_result"
    }
   ],
   "source": [
    "vowels"
   ]
  },
  {
   "cell_type": "code",
   "execution_count": 184,
   "id": "e23092e7",
   "metadata": {},
   "outputs": [],
   "source": [
    "def vowel_count(string):\n",
    "    v_count = 0\n",
    "    for item in string:\n",
    "        if item in vowels:\n",
    "            v_count = v_count+1\n",
    "    return v_count"
   ]
  },
  {
   "cell_type": "code",
   "execution_count": 185,
   "id": "dd569d22",
   "metadata": {},
   "outputs": [
    {
     "data": {
      "text/plain": [
       "0     2\n",
       "1     2\n",
       "2     2\n",
       "3     4\n",
       "4     4\n",
       "5     5\n",
       "6     3\n",
       "7     4\n",
       "8     3\n",
       "9     2\n",
       "10    2\n",
       "11    2\n",
       "12    2\n",
       "13    3\n",
       "14    2\n",
       "15    4\n",
       "16    3\n",
       "dtype: int64"
      ]
     },
     "execution_count": 185,
     "metadata": {},
     "output_type": "execute_result"
    }
   ],
   "source": [
    "fruits.apply(vowel_count)"
   ]
  },
  {
   "cell_type": "code",
   "execution_count": null,
   "id": "8b5c47e1",
   "metadata": {},
   "outputs": [],
   "source": []
  }
 ],
 "metadata": {
  "kernelspec": {
   "display_name": "Python 3 (ipykernel)",
   "language": "python",
   "name": "python3"
  },
  "language_info": {
   "codemirror_mode": {
    "name": "ipython",
    "version": 3
   },
   "file_extension": ".py",
   "mimetype": "text/x-python",
   "name": "python",
   "nbconvert_exporter": "python",
   "pygments_lexer": "ipython3",
   "version": "3.8.8"
  }
 },
 "nbformat": 4,
 "nbformat_minor": 5
}
